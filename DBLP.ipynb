{
 "cells": [
  {
   "cell_type": "code",
   "execution_count": 1,
   "metadata": {},
   "outputs": [],
   "source": [
    "def log_progress(sequence, every=None, size=None, name='Items'):\n",
    "    from ipywidgets import IntProgress, HTML, VBox\n",
    "    from IPython.display import display\n",
    "\n",
    "    is_iterator = False\n",
    "    if size is None:\n",
    "        try:\n",
    "            size = len(sequence)\n",
    "        except TypeError:\n",
    "            is_iterator = True\n",
    "    if size is not None:\n",
    "        if every is None:\n",
    "            if size <= 200:\n",
    "                every = 1\n",
    "            else:\n",
    "                every = int(size / 200)     # every 0.5%\n",
    "    else:\n",
    "        assert every is not None, 'sequence is iterator, set every'\n",
    "\n",
    "    if is_iterator:\n",
    "        progress = IntProgress(min=0, max=1, value=1)\n",
    "        progress.bar_style = 'info'\n",
    "    else:\n",
    "        progress = IntProgress(min=0, max=size, value=0)\n",
    "    label = HTML()\n",
    "    box = VBox(children=[label, progress])\n",
    "    display(box)\n",
    "\n",
    "    index = 0\n",
    "    try:\n",
    "        for index, record in enumerate(sequence, 1):\n",
    "            if index == 1 or index % every == 0:\n",
    "                if is_iterator:\n",
    "                    label.value = '{name}: {index} / ?'.format(\n",
    "                        name=name,\n",
    "                        index=index\n",
    "                    )\n",
    "                else:\n",
    "                    progress.value = index\n",
    "                    label.value = u'{name}: {index} / {size}'.format(\n",
    "                        name=name,\n",
    "                        index=index,\n",
    "                        size=size\n",
    "                    )\n",
    "            yield record\n",
    "    except:\n",
    "        progress.bar_style = 'danger'\n",
    "        raise\n",
    "    else:\n",
    "        progress.bar_style = 'success'\n",
    "        progress.value = index\n",
    "        label.value = \"{name}: {index}\".format(\n",
    "            name=name,\n",
    "            index=str(index or '?')\n",
    "        )"
   ]
  },
  {
   "cell_type": "code",
   "execution_count": 2,
   "metadata": {},
   "outputs": [],
   "source": [
    "import zen\n",
    "import matplotlib.pyplot as plt\n",
    "import numpy as np"
   ]
  },
  {
   "cell_type": "code",
   "execution_count": 111,
   "metadata": {},
   "outputs": [],
   "source": [
    "def katz(G,tol=0.01,max_iter=1000,alpha=0.001,beta=1):\n",
    "    iteration = 0\n",
    "    centrality = np.zeros(G.num_nodes)\n",
    "    while iteration < max_iter:\n",
    "        iteration += 1          # increment iteration count\n",
    "        centrality_old = centrality.copy()\n",
    "\n",
    "        for node in G.nodes_():\n",
    "            Ax = 0\n",
    "            for neighbor in G.neighbors_(node):\n",
    "                weight = G.weight_(G.edge_idx_(neighbor,node))\n",
    "                Ax += np.multiply(centrality[neighbor],weight)\n",
    "\n",
    "                #Ax += centrality[neighbor]      #exclude weight due to overflow in multiplication\n",
    "\n",
    "            centrality[node] = np.multiply(alpha,Ax)+beta\n",
    "\n",
    "        if np.sum(np.abs(np.subtract(centrality,centrality_old))) < tol:\n",
    "            return centrality"
   ]
  },
  {
   "cell_type": "markdown",
   "metadata": {},
   "source": [
    "\"[The DBLP computer science bibliography](https://snap.stanford.edu/data/com-DBLP.html) provides a comprehensive list of research papers in computer science. We construct a co-authorship network where two authors are connected if they publish at least one paper together.\""
   ]
  },
  {
   "cell_type": "code",
   "execution_count": 4,
   "metadata": {},
   "outputs": [
    {
     "data": {
      "application/vnd.jupyter.widget-view+json": {
       "model_id": "0ec459aa12004a78898ebb7326d093a4",
       "version_major": 2,
       "version_minor": 0
      },
      "text/html": [
       "<p>Failed to display Jupyter Widget of type <code>VBox</code>.</p>\n",
       "<p>\n",
       "  If you're reading this message in the Jupyter Notebook or JupyterLab Notebook, it may mean\n",
       "  that the widgets JavaScript is still loading. If this message persists, it\n",
       "  likely means that the widgets JavaScript library is either not installed or\n",
       "  not enabled. See the <a href=\"https://ipywidgets.readthedocs.io/en/stable/user_install.html\">Jupyter\n",
       "  Widgets Documentation</a> for setup instructions.\n",
       "</p>\n",
       "<p>\n",
       "  If you're reading this message in another frontend (for example, a static\n",
       "  rendering on GitHub or <a href=\"https://nbviewer.jupyter.org/\">NBViewer</a>),\n",
       "  it may mean that your frontend doesn't currently support widgets.\n",
       "</p>\n"
      ],
      "text/plain": [
       "VBox(children=(HTML(value=u''), IntProgress(value=0, max=5000)))"
      ]
     },
     "metadata": {},
     "output_type": "display_data"
    },
    {
     "data": {
      "text/html": [
       "<div>\n",
       "<style scoped>\n",
       "    .dataframe tbody tr th:only-of-type {\n",
       "        vertical-align: middle;\n",
       "    }\n",
       "\n",
       "    .dataframe tbody tr th {\n",
       "        vertical-align: top;\n",
       "    }\n",
       "\n",
       "    .dataframe thead th {\n",
       "        text-align: right;\n",
       "    }\n",
       "</style>\n",
       "<table border=\"1\" class=\"dataframe\">\n",
       "  <thead>\n",
       "    <tr style=\"text-align: right;\">\n",
       "      <th></th>\n",
       "      <th>Node</th>\n",
       "      <th>Community</th>\n",
       "    </tr>\n",
       "  </thead>\n",
       "  <tbody>\n",
       "    <tr>\n",
       "      <th>0</th>\n",
       "      <td>105653</td>\n",
       "      <td>0</td>\n",
       "    </tr>\n",
       "    <tr>\n",
       "      <th>1</th>\n",
       "      <td>105654</td>\n",
       "      <td>0</td>\n",
       "    </tr>\n",
       "    <tr>\n",
       "      <th>2</th>\n",
       "      <td>210737</td>\n",
       "      <td>0</td>\n",
       "    </tr>\n",
       "    <tr>\n",
       "      <th>3</th>\n",
       "      <td>210738</td>\n",
       "      <td>0</td>\n",
       "    </tr>\n",
       "    <tr>\n",
       "      <th>4</th>\n",
       "      <td>210739</td>\n",
       "      <td>0</td>\n",
       "    </tr>\n",
       "  </tbody>\n",
       "</table>\n",
       "</div>"
      ],
      "text/plain": [
       "     Node Community\n",
       "0  105653         0\n",
       "1  105654         0\n",
       "2  210737         0\n",
       "3  210738         0\n",
       "4  210739         0"
      ]
     },
     "execution_count": 4,
     "metadata": {},
     "output_type": "execute_result"
    }
   ],
   "source": [
    "import pandas as pd\n",
    "dblp_df = pd.DataFrame(columns=['Node','Community'])\n",
    "\n",
    "idx=0\n",
    "comm=0\n",
    "for line in log_progress(open('com-dblp.top5000.cmty.txt'),every=1,size=5000):\n",
    "    nodes = line.split('\\t')\n",
    "    for node in nodes:\n",
    "        dblp_df.loc[idx] = [int(node), comm]\n",
    "        idx+=1\n",
    "    comm+=1"
   ]
  },
  {
   "cell_type": "code",
   "execution_count": 5,
   "metadata": {},
   "outputs": [],
   "source": [
    "TwoLargestCom = dblp_df.groupby('Community').count().sort_values('Node',ascending=False).iloc[:2].index.values\n",
    "\n",
    "sampled_nodes=dblp_df[(dblp_df['Community']==TwoLargestCom[0])|\\\n",
    "                      (dblp_df['Community']==TwoLargestCom[1])].set_index('Node')"
   ]
  },
  {
   "cell_type": "code",
   "execution_count": 108,
   "metadata": {},
   "outputs": [
    {
     "data": {
      "application/vnd.jupyter.widget-view+json": {
       "model_id": "c2f5c0f1c14e4ae8af60e58bb1a78719",
       "version_major": 2,
       "version_minor": 0
      },
      "text/html": [
       "<p>Failed to display Jupyter Widget of type <code>VBox</code>.</p>\n",
       "<p>\n",
       "  If you're reading this message in the Jupyter Notebook or JupyterLab Notebook, it may mean\n",
       "  that the widgets JavaScript is still loading. If this message persists, it\n",
       "  likely means that the widgets JavaScript library is either not installed or\n",
       "  not enabled. See the <a href=\"https://ipywidgets.readthedocs.io/en/stable/user_install.html\">Jupyter\n",
       "  Widgets Documentation</a> for setup instructions.\n",
       "</p>\n",
       "<p>\n",
       "  If you're reading this message in another frontend (for example, a static\n",
       "  rendering on GitHub or <a href=\"https://nbviewer.jupyter.org/\">NBViewer</a>),\n",
       "  it may mean that your frontend doesn't currently support widgets.\n",
       "</p>\n"
      ],
      "text/plain": [
       "VBox(children=(HTML(value=u''), IntProgress(value=0, max=1049724)))"
      ]
     },
     "metadata": {},
     "output_type": "display_data"
    }
   ],
   "source": [
    "#########################\n",
    "# Only run this cell if the gml file is not available. Otherwise, run the next one to load the graph\n",
    "#########################\n",
    "G = zen.Graph()\n",
    "for line in log_progress(open('com-dblp.ungraph.txt'),every=1,size=1049851):\n",
    "    info = line.split('\\t')\n",
    "    n1 = int(info[0])\n",
    "    n2 = int(info[1])\n",
    "    \n",
    "    node1_in = True\n",
    "    try:\n",
    "        _ = sampled_nodes.loc[n1,:]\n",
    "    except KeyError:\n",
    "        # not in comm\n",
    "        node1_in = False\n",
    "        \n",
    "    node2_in = True\n",
    "    try:\n",
    "        _ = sampled_nodes.loc[n2,:]\n",
    "    except KeyError:\n",
    "        # not in comm\n",
    "        node2_in = False\n",
    "    \n",
    "    if node1_in and node2_in:\n",
    "        if not G.has_edge(n1,n2):\n",
    "            G.add_edge(n1,n2)\n",
    "        else:\n",
    "            G.set_weight(n1,n2,G.weight(n1,n2)+1)\n",
    "zen.io.gml.write(G,'dblp_top_2_weighted.gml')"
   ]
  },
  {
   "cell_type": "code",
   "execution_count": 176,
   "metadata": {},
   "outputs": [],
   "source": [
    "#G = zen.io.gml.read('dblp_top_2.gml')\n",
    "G = zen.io.gml.read('dblp_top_2_weighted.gml')"
   ]
  },
  {
   "cell_type": "code",
   "execution_count": 178,
   "metadata": {},
   "outputs": [
    {
     "data": {
      "text/plain": [
       "Community  Node\n",
       "4753       1991    4753\n",
       "           2697    4753\n",
       "           3406    4753\n",
       "           3466    4753\n",
       "           3558    4753\n",
       "Name: Community, dtype: object"
      ]
     },
     "execution_count": 178,
     "metadata": {},
     "output_type": "execute_result"
    }
   ],
   "source": [
    "communities = sampled_nodes.groupby('Community').apply(lambda x: x.iloc[:,0])\n",
    "comm_names = communities.index.get_level_values(0).unique()\n",
    "\n",
    "C = {}\n",
    "for name in comm_names:\n",
    "    C[name] = communities.loc[name].index.values"
   ]
  },
  {
   "cell_type": "code",
   "execution_count": 180,
   "metadata": {},
   "outputs": [
    {
     "data": {
      "application/vnd.jupyter.widget-view+json": {
       "model_id": "98e51ef045254317a2dff2c93993c34b",
       "version_major": 2,
       "version_minor": 0
      },
      "text/html": [
       "<p>Failed to display Jupyter Widget of type <code>VBox</code>.</p>\n",
       "<p>\n",
       "  If you're reading this message in the Jupyter Notebook or JupyterLab Notebook, it may mean\n",
       "  that the widgets JavaScript is still loading. If this message persists, it\n",
       "  likely means that the widgets JavaScript library is either not installed or\n",
       "  not enabled. See the <a href=\"https://ipywidgets.readthedocs.io/en/stable/user_install.html\">Jupyter\n",
       "  Widgets Documentation</a> for setup instructions.\n",
       "</p>\n",
       "<p>\n",
       "  If you're reading this message in another frontend (for example, a static\n",
       "  rendering on GitHub or <a href=\"https://nbviewer.jupyter.org/\">NBViewer</a>),\n",
       "  it may mean that your frontend doesn't currently support widgets.\n",
       "</p>\n"
      ],
      "text/plain": [
       "VBox(children=(HTML(value=u''), IntProgress(value=0, max=34281)))"
      ]
     },
     "metadata": {},
     "output_type": "display_data"
    },
    {
     "name": "stdout",
     "output_type": "stream",
     "text": [
      "Modularity:      0.438\n",
      "Max. Modularity: 0.529\n",
      "Normalized Mod:  0.827\n"
     ]
    }
   ],
   "source": [
    "Q = zen.algorithms.modularity(G,C)\n",
    "\n",
    "# Maximum Modularity\n",
    "count=0.0\n",
    "for e in log_progress(G.edges(),every=200):\n",
    "    c1 = sampled_nodes.loc[e[0],'Community']\n",
    "    c2 = sampled_nodes.loc[e[1],'Community']\n",
    "    # if node is in both communities cx will be a Series type\n",
    "    if type(c1) == pd.core.series.Series or type(c2) == pd.core.series.Series:\n",
    "        count += 0\n",
    "    elif c1 == c2:\n",
    "        count += 1\n",
    "same = count / G.num_edges\n",
    "rand = same - Q\n",
    "qmax = 1 - rand\n",
    "\n",
    "print 'Modularity:      %.3f'%Q\n",
    "print 'Max. Modularity: %.3f'%qmax\n",
    "print 'Normalized Mod:  %.3f'%(Q/qmax)"
   ]
  },
  {
   "cell_type": "code",
   "execution_count": 114,
   "metadata": {},
   "outputs": [],
   "source": [
    "evc = zen.algorithms.eigenvector_centrality_(G,weighted=True)\n",
    "#evc = evc - np.min(evc)\n",
    "#evc = evc / np.max(evc)\n",
    "kc = katz(G,alpha=1e-4)\n",
    "#kc = kc - np.min(kc)\n",
    "#kc = kc / np.max(kc)\n",
    "cc = zen.algorithms.clustering.lcc_(G)"
   ]
  },
  {
   "cell_type": "code",
   "execution_count": 115,
   "metadata": {},
   "outputs": [
    {
     "data": {
      "image/png": "[encoded data removed]",
      "text/plain": [
       "<matplotlib.figure.Figure at 0x7fe7b5d5e150>"
      ]
     },
     "metadata": {},
     "output_type": "display_data"
    }
   ],
   "source": [
    "comms = communities.index.get_level_values(0).unique()\n",
    "# comm 1\n",
    "c1nodes = communities.loc[comms[0],:].index.get_level_values(1).values\n",
    "c1nodeIdx = np.zeros(len(c1nodes),dtype=np.int64)\n",
    "for i,x in enumerate(c1nodes):\n",
    "    idx = G.node_idx(x)\n",
    "    c1nodeIdx[i] = idx\n",
    "    \n",
    "# comm 2\n",
    "c2nodes = communities.loc[comms[1],:].index.get_level_values(1).values\n",
    "c2nodeIdx = np.zeros(len(c2nodes),dtype=np.int64)\n",
    "for i,x in enumerate(c2nodes):\n",
    "    idx = G.node_idx(x)\n",
    "    c2nodeIdx[i] = idx\n",
    "    \n",
    "plt.scatter(evc[c2nodeIdx],kc[c2nodeIdx],s=3,label='Community 2')\n",
    "plt.scatter(evc[c1nodeIdx],kc[c1nodeIdx],s=3,label='Community 1')\n",
    "#plt.gca().set_xscale('log')\n",
    "#plt.gca().set_yscale('log')\n",
    "#plt.gca().set_xlim([1e-6,1])\n",
    "#plt.gca().set_ylim([1e-6,1])\n",
    "plt.legend()\n",
    "plt.xlabel('Eigenvector centrality')\n",
    "plt.ylabel('Katz centrality')\n",
    "plt.show()"
   ]
  },
  {
   "cell_type": "markdown",
   "metadata": {},
   "source": [
    "The graph more closely results from the first synthetic graph, with a distinction. Ine the first results, the denser of the two communities corresponded to the cluster with the smaller linear slope. However, Community 1 has a slightly larger average local clustering coefficient than Community 2, yet has a steeper linear slope."
   ]
  },
  {
   "cell_type": "code",
   "execution_count": 11,
   "metadata": {},
   "outputs": [
    {
     "name": "stdout",
     "output_type": "stream",
     "text": [
      "Community 1 average lcc: 0.638\n",
      "Community 2 average lcc: 0.576\n"
     ]
    }
   ],
   "source": [
    "avgCC1 = np.mean(cc[c1nodeIdx])\n",
    "avgCC2 = np.mean(cc[c2nodeIdx])\n",
    "\n",
    "print 'Community 1 average lcc: %.3f'%avgCC1\n",
    "print 'Community 2 average lcc: %.3f'%avgCC2"
   ]
  },
  {
   "cell_type": "markdown",
   "metadata": {},
   "source": [
    "There is much more of a distinction between the two communities in the centralities plot than seen in the EU-core network. The graph more closely results from the first synthetic graph. That the DBLP graph is strongly assortively mixed support the claim that distinct clusters in the Katz vs Eigenvector centrality plot only appear with strong assortative mixing. However, there are several nodes that appear in regions dominated by the opposite community. This might be explained by one or more of the following details about the network:\n",
    "\n",
    "1. There are several nodes that are members of both communities. \"Publication venue, e.g, journal or conference, defines an individual ground-truth community; authors who published to a certain journal or conference form a community.\" Authors frequently publish in numerous journals and conferences, causing community membership not to be disjoint.\n",
    "\n",
    "2. Venue is not the only basis for ground-truth communities in the network. \"We regard each connected component in a group as a separate ground-truth community.\" One of the communities sampled here may not be a publication venue community, but a connected component, hence the overlap in membership.\n",
    "\n",
    "3. The different communities suggested by the centralities plot are different from the communities defined by publication venue/connected component."
   ]
  },
  {
   "cell_type": "code",
   "execution_count": 12,
   "metadata": {},
   "outputs": [
    {
     "data": {
      "image/png": "[encoded data removed]",
      "text/plain": [
       "<matplotlib.figure.Figure at 0x7fe7c1266c90>"
      ]
     },
     "metadata": {},
     "output_type": "display_data"
    }
   ],
   "source": [
    "countedCom = sampled_nodes.groupby('Node').count()\n",
    "doubled_nodes = countedCom.where(countedCom > 1).dropna().index.values\n",
    "\n",
    "doubled_node_idx = [G.node_idx(node) for node in doubled_nodes]\n",
    "\n",
    "plt.scatter(evc[c2nodeIdx],kc[c2nodeIdx],s=3,label='Community 2')\n",
    "plt.scatter(evc[c1nodeIdx],kc[c1nodeIdx],s=3,label='Community 1')\n",
    "plt.scatter(evc[doubled_node_idx],kc[doubled_node_idx],s=3,label='Both')\n",
    "#plt.gca().set_xscale('log')\n",
    "#plt.gca().set_yscale('log')\n",
    "#plt.gca().set_xlim([1e-12,1])\n",
    "#plt.gca().set_ylim([1e-9,1])\n",
    "plt.legend()\n",
    "plt.xlabel('Eigenvector centrality')\n",
    "plt.ylabel('Katz centrality')\n",
    "plt.show()"
   ]
  },
  {
   "cell_type": "markdown",
   "metadata": {},
   "source": [
    "The \"out of place\" nodes are **not** the nodes in both communities. Thus, it seems that the third explaination is more likely."
   ]
  },
  {
   "cell_type": "code",
   "execution_count": 161,
   "metadata": {},
   "outputs": [],
   "source": [
    "evc_ = (evc-np.min(evc))/np.max(evc-np.min(evc))\n",
    "kc_ = (kc - np.min(kc))/np.max(kc-np.min(kc))\n",
    "X = np.array([evc_,kc_]).T\n",
    "#from sklearn.preprocessing import MinMaxScaler\n",
    "#scaler = MinMaxScaler(feature_range=(1e-4,10))\n",
    "#X_ = scaler.fit_transform(X)\n",
    "from sklearn.cluster import AgglomerativeClustering as AC\n",
    "\n",
    "cluster = AC(n_clusters=2,affinity='cosine',linkage='average').fit(X) # update sklearn and try linkage='single'\n",
    "labels = cluster.labels_"
   ]
  },
  {
   "cell_type": "code",
   "execution_count": 165,
   "metadata": {},
   "outputs": [
    {
     "data": {
      "image/png": "[encoded data removed]",
      "text/plain": [
       "<matplotlib.figure.Figure at 0x7fe7b5d4aad0>"
      ]
     },
     "metadata": {},
     "output_type": "display_data"
    }
   ],
   "source": [
    "for x in [0,1]:\n",
    "    idx = np.where(labels==x)[0]\n",
    "    plt.scatter(evc_[idx],kc_[idx],s=3,label='Cluster %d'%(x+1))\n",
    "plt.legend()\n",
    "#plt.gca().set_xscale('log')\n",
    "#plt.gca().set_yscale('log')\n",
    "#plt.gca().set_xlim([1e-20,1])\n",
    "#plt.gca().set_ylim([1e-20,1])\n",
    "plt.xlabel('Eigenvector Centrality (normalized)')\n",
    "plt.ylabel('Katz Centrality (normalized)')\n",
    "plt.show()"
   ]
  },
  {
   "cell_type": "code",
   "execution_count": 182,
   "metadata": {},
   "outputs": [
    {
     "name": "stdout",
     "output_type": "stream",
     "text": [
      "Modularity:      0.022\n",
      "Max. Modularity: 0.039\n",
      "Normalized Mod:  0.565\n"
     ]
    }
   ],
   "source": [
    "C = {}\n",
    "for x in [0,1]:\n",
    "    C[x] = [G.node_object(i) for i in np.where(labels==x)[0]]\n",
    "\n",
    "Q = zen.algorithms.modularity(G,C)\n",
    "\n",
    "# Maximum Modularity\n",
    "count=0.0\n",
    "for e in G.edges():\n",
    "    n1 = G.node_idx(e[0])\n",
    "    n2 = G.node_idx(e[1])\n",
    "    if labels[n1] == labels[n2]:\n",
    "        count += 1\n",
    "same = count / G.num_edges\n",
    "rand = same - Q\n",
    "qmax = 1 - rand\n",
    "\n",
    "print 'Modularity:      %.3f'%Q\n",
    "print 'Max. Modularity: %.3f'%qmax\n",
    "print 'Normalized Mod:  %.3f'%(Q/qmax)"
   ]
  },
  {
   "cell_type": "code",
   "execution_count": 183,
   "metadata": {},
   "outputs": [
    {
     "name": "stdout",
     "output_type": "stream",
     "text": [
      "12793\n",
      "533\n"
     ]
    }
   ],
   "source": [
    "for x in C:\n",
    "    print len(C[x])"
   ]
  },
  {
   "cell_type": "code",
   "execution_count": null,
   "metadata": {},
   "outputs": [],
   "source": []
  }
 ],
 "metadata": {
  "kernelspec": {
   "display_name": "Python 2",
   "language": "python",
   "name": "python2"
  },
  "language_info": {
   "codemirror_mode": {
    "name": "ipython",
    "version": 2
   },
   "file_extension": ".py",
   "mimetype": "text/x-python",
   "name": "python",
   "nbconvert_exporter": "python",
   "pygments_lexer": "ipython2",
   "version": "2.7.15"
  }
 },
 "nbformat": 4,
 "nbformat_minor": 2
}
