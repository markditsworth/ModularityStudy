{
 "cells": [
  {
   "cell_type": "code",
   "execution_count": 1,
   "metadata": {},
   "outputs": [],
   "source": [
    "import zen\n",
    "import matplotlib.pyplot as plt\n",
    "import numpy as np\n",
    "from tqdm import tqdm_notebook as log_progress"
   ]
  },
  {
   "cell_type": "code",
   "execution_count": 2,
   "metadata": {},
   "outputs": [],
   "source": [
    "def katz(G,tol=0.01,max_iter=1000,alpha=0.001,beta=1):\n",
    "    iteration = 0\n",
    "    centrality = np.zeros(G.num_nodes)\n",
    "    while iteration < max_iter:\n",
    "        iteration += 1          # increment iteration count\n",
    "        centrality_old = centrality.copy()\n",
    "\n",
    "        for node in G.nodes_():\n",
    "            Ax = 0\n",
    "            for neighbor in G.neighbors_(node):\n",
    "                weight = G.weight_(G.edge_idx_(neighbor,node))\n",
    "                Ax += np.multiply(centrality[neighbor],weight)\n",
    "\n",
    "                #Ax += centrality[neighbor]      #exclude weight due to overflow in multiplication\n",
    "\n",
    "            centrality[node] = np.multiply(alpha,Ax)+beta\n",
    "\n",
    "        if np.sum(np.abs(np.subtract(centrality,centrality_old))) < tol:\n",
    "            return centrality"
   ]
  },
  {
   "cell_type": "markdown",
   "metadata": {},
   "source": [
    "\"[The DBLP computer science bibliography](https://snap.stanford.edu/data/com-DBLP.html) provides a comprehensive list of research papers in computer science. We construct a co-authorship network where two authors are connected if they publish at least one paper together.\""
   ]
  },
  {
   "cell_type": "code",
   "execution_count": 3,
   "metadata": {},
   "outputs": [
    {
     "data": {
      "application/vnd.jupyter.widget-view+json": {
       "model_id": "af23c56d4cce4f7d8d80ce4142ddf635",
       "version_major": 2,
       "version_minor": 0
      },
      "text/plain": [
       "HBox(children=(IntProgress(value=0, max=5000), HTML(value=u'')))"
      ]
     },
     "metadata": {},
     "output_type": "display_data"
    },
    {
     "name": "stdout",
     "output_type": "stream",
     "text": [
      "\n"
     ]
    }
   ],
   "source": [
    "import pandas as pd\n",
    "dblp_df = pd.DataFrame(columns=['Node','Community'])\n",
    "\n",
    "idx=0\n",
    "comm=0\n",
    "for line in log_progress(open('com-dblp.top5000.cmty.txt'),total=5000):\n",
    "    nodes = line.split('\\t')\n",
    "    for node in nodes:\n",
    "        dblp_df.loc[idx] = [int(node), comm]\n",
    "        idx+=1\n",
    "    comm+=1"
   ]
  },
  {
   "cell_type": "code",
   "execution_count": 4,
   "metadata": {},
   "outputs": [],
   "source": [
    "TwoLargestCom = dblp_df.groupby('Community').count().sort_values('Node',ascending=False).iloc[:2].index.values\n",
    "\n",
    "sampled_nodes=dblp_df[(dblp_df['Community']==TwoLargestCom[0])|\\\n",
    "                      (dblp_df['Community']==TwoLargestCom[1])].set_index('Node')"
   ]
  },
  {
   "cell_type": "code",
   "execution_count": 108,
   "metadata": {},
   "outputs": [
    {
     "data": {
      "application/vnd.jupyter.widget-view+json": {
       "model_id": "c2f5c0f1c14e4ae8af60e58bb1a78719",
       "version_major": 2,
       "version_minor": 0
      },
      "text/html": [
       "<p>Failed to display Jupyter Widget of type <code>VBox</code>.</p>\n",
       "<p>\n",
       "  If you're reading this message in the Jupyter Notebook or JupyterLab Notebook, it may mean\n",
       "  that the widgets JavaScript is still loading. If this message persists, it\n",
       "  likely means that the widgets JavaScript library is either not installed or\n",
       "  not enabled. See the <a href=\"https://ipywidgets.readthedocs.io/en/stable/user_install.html\">Jupyter\n",
       "  Widgets Documentation</a> for setup instructions.\n",
       "</p>\n",
       "<p>\n",
       "  If you're reading this message in another frontend (for example, a static\n",
       "  rendering on GitHub or <a href=\"https://nbviewer.jupyter.org/\">NBViewer</a>),\n",
       "  it may mean that your frontend doesn't currently support widgets.\n",
       "</p>\n"
      ],
      "text/plain": [
       "VBox(children=(HTML(value=u''), IntProgress(value=0, max=1049724)))"
      ]
     },
     "metadata": {},
     "output_type": "display_data"
    }
   ],
   "source": [
    "#########################\n",
    "# Only run this cell if the gml file is not available. Otherwise, run the next one to load the graph\n",
    "#########################\n",
    "G = zen.Graph()\n",
    "for line in log_progress(open('com-dblp.ungraph.txt'),total=1049851):\n",
    "    info = line.split('\\t')\n",
    "    n1 = int(info[0])\n",
    "    n2 = int(info[1])\n",
    "    \n",
    "    node1_in = True\n",
    "    try:\n",
    "        _ = sampled_nodes.loc[n1,:]\n",
    "    except KeyError:\n",
    "        # not in comm\n",
    "        node1_in = False\n",
    "        \n",
    "    node2_in = True\n",
    "    try:\n",
    "        _ = sampled_nodes.loc[n2,:]\n",
    "    except KeyError:\n",
    "        # not in comm\n",
    "        node2_in = False\n",
    "    \n",
    "    if node1_in and node2_in:\n",
    "        if not G.has_edge(n1,n2):\n",
    "            G.add_edge(n1,n2)\n",
    "        else:\n",
    "            G.set_weight(n1,n2,G.weight(n1,n2)+1)\n",
    "zen.io.gml.write(G,'dblp_top_2_weighted.gml')"
   ]
  },
  {
   "cell_type": "code",
   "execution_count": 5,
   "metadata": {},
   "outputs": [],
   "source": [
    "#G = zen.io.gml.read('dblp_top_2.gml')\n",
    "G = zen.io.gml.read('dblp_top_2_weighted.gml')"
   ]
  },
  {
   "cell_type": "code",
   "execution_count": 6,
   "metadata": {},
   "outputs": [],
   "source": [
    "communities = sampled_nodes.groupby('Community').apply(lambda x: x.iloc[:,0])\n",
    "comm_names = communities.index.get_level_values(0).unique()\n",
    "\n",
    "C = {}\n",
    "for name in comm_names:\n",
    "    C[name] = communities.loc[name].index.values"
   ]
  },
  {
   "cell_type": "code",
   "execution_count": 7,
   "metadata": {},
   "outputs": [],
   "source": [
    "def modularity(G,classDict,classList):\n",
    "    Q = zen.algorithms.modularity(G,classDict)\n",
    "    # Maximum Modularity\n",
    "    count=0.0\n",
    "    for e in G.edges():\n",
    "        n1 = G.node_idx(e[0])\n",
    "        n2 = G.node_idx(e[1])\n",
    "        if classList[n1] == classList[n2]:\n",
    "            count += 1\n",
    "    same = count / G.num_edges\n",
    "    rand = same - Q\n",
    "    qmax = 1 - rand\n",
    "    return Q, qmax"
   ]
  },
  {
   "cell_type": "code",
   "execution_count": 8,
   "metadata": {},
   "outputs": [
    {
     "data": {
      "application/vnd.jupyter.widget-view+json": {
       "model_id": "d377c8d88cc74b3d9b94073c61d0189c",
       "version_major": 2,
       "version_minor": 0
      },
      "text/plain": [
       "HBox(children=(IntProgress(value=0, max=34281), HTML(value=u'')))"
      ]
     },
     "metadata": {},
     "output_type": "display_data"
    },
    {
     "name": "stdout",
     "output_type": "stream",
     "text": [
      "\n",
      "Modularity:      0.438\n",
      "Max. Modularity: 0.529\n",
      "Normalized Mod:  0.827\n"
     ]
    }
   ],
   "source": [
    "Q = zen.algorithms.modularity(G,C)\n",
    "\n",
    "# Maximum Modularity\n",
    "count=0.0\n",
    "for e in log_progress(G.edges()):\n",
    "    c1 = sampled_nodes.loc[e[0],'Community']\n",
    "    c2 = sampled_nodes.loc[e[1],'Community']\n",
    "    # if node is in both communities cx will be a Series type\n",
    "    if type(c1) == pd.core.series.Series or type(c2) == pd.core.series.Series:\n",
    "        count += 0\n",
    "    elif c1 == c2:\n",
    "        count += 1\n",
    "same = count / G.num_edges\n",
    "rand = same - Q\n",
    "qmax = 1 - rand\n",
    "\n",
    "print 'Modularity:      %.3f'%Q\n",
    "print 'Max. Modularity: %.3f'%qmax\n",
    "print 'Normalized Mod:  %.3f'%(Q/qmax)"
   ]
  },
  {
   "cell_type": "code",
   "execution_count": 9,
   "metadata": {},
   "outputs": [],
   "source": [
    "evc = zen.algorithms.eigenvector_centrality_(G,weighted=True)\n",
    "#evc = evc - np.min(evc)\n",
    "#evc = evc / np.max(evc)\n",
    "kc = katz(G,alpha=1e-4)\n",
    "#kc = kc - np.min(kc)\n",
    "#kc = kc / np.max(kc)\n",
    "cc = zen.algorithms.clustering.lcc_(G)"
   ]
  },
  {
   "cell_type": "code",
   "execution_count": 10,
   "metadata": {},
   "outputs": [
    {
     "data": {
      "image/png": "[encoded data removed]",
      "text/plain": [
       "<Figure size 432x288 with 1 Axes>"
      ]
     },
     "metadata": {
      "needs_background": "light"
     },
     "output_type": "display_data"
    }
   ],
   "source": [
    "comms = communities.index.get_level_values(0).unique()\n",
    "# comm 1\n",
    "c1nodes = communities.loc[comms[0],:].index.get_level_values(1).values\n",
    "c1nodeIdx = np.zeros(len(c1nodes),dtype=np.int64)\n",
    "for i,x in enumerate(c1nodes):\n",
    "    idx = G.node_idx(x)\n",
    "    c1nodeIdx[i] = idx\n",
    "    \n",
    "# comm 2\n",
    "c2nodes = communities.loc[comms[1],:].index.get_level_values(1).values\n",
    "c2nodeIdx = np.zeros(len(c2nodes),dtype=np.int64)\n",
    "for i,x in enumerate(c2nodes):\n",
    "    idx = G.node_idx(x)\n",
    "    c2nodeIdx[i] = idx\n",
    "    \n",
    "plt.scatter(evc[c2nodeIdx],kc[c2nodeIdx],s=3,label='Community 2')\n",
    "plt.scatter(evc[c1nodeIdx],kc[c1nodeIdx],s=3,label='Community 1')\n",
    "#plt.gca().set_xscale('log')\n",
    "#plt.gca().set_yscale('log')\n",
    "#plt.gca().set_xlim([1e-6,1])\n",
    "#plt.gca().set_ylim([1e-6,1])\n",
    "plt.legend()\n",
    "plt.xlabel('Eigenvector centrality')\n",
    "plt.ylabel('Katz centrality')\n",
    "plt.show()"
   ]
  },
  {
   "cell_type": "markdown",
   "metadata": {},
   "source": [
    "The graph more closely results from the first synthetic graph, with a distinction. Ine the first results, the denser of the two communities corresponded to the cluster with the smaller linear slope. However, Community 1 has a slightly larger average local clustering coefficient than Community 2, yet has a steeper linear slope."
   ]
  },
  {
   "cell_type": "code",
   "execution_count": 11,
   "metadata": {},
   "outputs": [
    {
     "name": "stdout",
     "output_type": "stream",
     "text": [
      "Community 1 average lcc: 0.638\n",
      "Community 2 average lcc: 0.576\n"
     ]
    }
   ],
   "source": [
    "avgCC1 = np.mean(cc[c1nodeIdx])\n",
    "avgCC2 = np.mean(cc[c2nodeIdx])\n",
    "\n",
    "print 'Community 1 average lcc: %.3f'%avgCC1\n",
    "print 'Community 2 average lcc: %.3f'%avgCC2"
   ]
  },
  {
   "cell_type": "markdown",
   "metadata": {},
   "source": [
    "There is much more of a distinction between the two communities in the centralities plot than seen in the EU-core network. The graph more closely results from the first synthetic graph. That the DBLP graph is strongly assortively mixed support the claim that distinct clusters in the Katz vs Eigenvector centrality plot only appear with strong assortative mixing. However, there are several nodes that appear in regions dominated by the opposite community. This might be explained by one or more of the following details about the network:\n",
    "\n",
    "1. There are several nodes that are members of both communities. \"Publication venue, e.g, journal or conference, defines an individual ground-truth community; authors who published to a certain journal or conference form a community.\" Authors frequently publish in numerous journals and conferences, causing community membership not to be disjoint.\n",
    "\n",
    "2. Venue is not the only basis for ground-truth communities in the network. \"We regard each connected component in a group as a separate ground-truth community.\" One of the communities sampled here may not be a publication venue community, but a connected component, hence the overlap in membership.\n",
    "\n",
    "3. The different communities suggested by the centralities plot are different from the communities defined by publication venue/connected component."
   ]
  },
  {
   "cell_type": "code",
   "execution_count": 12,
   "metadata": {},
   "outputs": [
    {
     "data": {
      "image/png": "[encoded data removed]",
      "text/plain": [
       "<Figure size 432x288 with 1 Axes>"
      ]
     },
     "metadata": {
      "needs_background": "light"
     },
     "output_type": "display_data"
    }
   ],
   "source": [
    "countedCom = sampled_nodes.groupby('Node').count()\n",
    "doubled_nodes = countedCom.where(countedCom > 1).dropna().index.values\n",
    "\n",
    "doubled_node_idx = [G.node_idx(node) for node in doubled_nodes]\n",
    "\n",
    "plt.scatter(evc[c2nodeIdx],kc[c2nodeIdx],s=3,label='Community 2')\n",
    "plt.scatter(evc[c1nodeIdx],kc[c1nodeIdx],s=3,label='Community 1')\n",
    "plt.scatter(evc[doubled_node_idx],kc[doubled_node_idx],s=3,label='Both')\n",
    "#plt.gca().set_xscale('log')\n",
    "#plt.gca().set_yscale('log')\n",
    "#plt.gca().set_xlim([1e-12,1])\n",
    "#plt.gca().set_ylim([1e-9,1])\n",
    "plt.legend()\n",
    "plt.xlabel('Eigenvector centrality')\n",
    "plt.ylabel('Katz centrality')\n",
    "plt.show()"
   ]
  },
  {
   "cell_type": "markdown",
   "metadata": {},
   "source": [
    "The \"out of place\" nodes are **not** the nodes in both communities. Thus, it seems that the third explaination is more likely."
   ]
  },
  {
   "cell_type": "code",
   "execution_count": 45,
   "metadata": {},
   "outputs": [],
   "source": [
    "def MSE(x,y,m):\n",
    "    '''\n",
    "    Not mean-squared-error, just too lazy to chance the function name.\n",
    "    Measures the orthogonal distance points are from the line through origin with slope m\n",
    "    '''\n",
    "    x_ = (m*y+x)/(m**2 + 1)\n",
    "    y_ = (y*(m**2) + m*x)/(m**2 + 1)\n",
    "    return np.sum(np.power(x-x_,2) + np.power(y-y_,2))/len(x)\n",
    "    \n",
    "\n",
    "def slope(angle):\n",
    "    '''\n",
    "    Calculates linear slope of line with angle from x-axis (radians)\n",
    "    '''\n",
    "    return np.tan(angle)\n",
    "    \n",
    "def bound(x, y, slope, lineU, lineL):\n",
    "    '''\n",
    "    returns subset of x,y that are between the lines lineU and lineL\n",
    "    '''\n",
    "    upper = lineU(x,slope)\n",
    "    lower = lineL(x,slope)\n",
    "    return np.logical_and(y>=lower, y<=upper)\n",
    "\n",
    "def get_offsets(m,d):\n",
    "    '''\n",
    "    calculates the shift of a line that has an orthogonal distance d\n",
    "    from a line through the origin with slope m\n",
    "    '''\n",
    "    A = 1./(m**2) + 1\n",
    "    B = -2*A\n",
    "    C = (1./(m**2))+1 - d**2\n",
    "    \n",
    "    x1 = (-B + np.sqrt(B**2 - 4*A*C))/(2*A)\n",
    "    \n",
    "    y1 = m + (1./m) - (x1/m)\n",
    "    \n",
    "    b1 = y1 - m*x1\n",
    "    return b1\n",
    "\n",
    "def lineFinder(x, y, dtheta=0.01, dx=0.05):\n",
    "    theta=0\n",
    "    \n",
    "    line = lambda x,m: m*x\n",
    "    b_up = lambda x,m: m*(x)-get_offsets(m,dx)\n",
    "    b_low= lambda x,m: m*(x)+get_offsets(m,dx)\n",
    "    \n",
    "    thetas = np.arange(1e-4,np.pi/2,dtheta)\n",
    "    error = np.empty(len(thetas))\n",
    "    \n",
    "    for i,theta in enumerate(thetas):\n",
    "        m = slope(theta)\n",
    "        X = x[bound(x,y,m,b_up,b_low)]\n",
    "        Y = y[bound(x,y,m,b_up,b_low)]\n",
    "        error[i] = MSE(X,Y,m)*(len(X)/float(len(x)))\n",
    "    \n",
    "    return thetas, error\n",
    "\n",
    "def optimizeAngles(angle,error,N,plot=False):\n",
    "    N=10\n",
    "    x = pd.Series(error).rolling(window=N).mean().iloc[N-1:].values\n",
    "    x_ = np.diff(x)\n",
    "    t = angle[N:]\n",
    "    ang = []\n",
    "    for i in range(len(x_)):\n",
    "        if i != 0 and i != len(x_)-1:\n",
    "            if x_[i-1] < 0 and x_[i] >= 0:\n",
    "                ang.append(t[i])\n",
    "    if plot:\n",
    "        for a in ang:\n",
    "            plt.vlines(ymin=np.min(x),ymax=np.max(x),x=a*180/np.pi,linestyle='--',color='grey')\n",
    "        plt.plot(angle[N-1:]*180/np.pi,x)\n",
    "        plt.xlabel('Angle (deg.)')\n",
    "        plt.ylabel('Sum of Squared Orth. Error')\n",
    "        plt.title('Identification of Local Minima')\n",
    "        plt.show()\n",
    "\n",
    "    return ang\n",
    "\n",
    "def getGroups(x,y,angles):\n",
    "    if len(angles) == 1:\n",
    "        m = slope(angles[0])\n",
    "        y_ = x*m\n",
    "        g1 = np.where(y<=y_)[0]\n",
    "        g2 = np.where(y>y_)[0]\n",
    "        return [g1,g2]\n",
    "    elif len(angles) == 2:\n",
    "        m1 = slope(angles[0])\n",
    "        m2 = slope(angles[1])\n",
    "        y1_ = x*m1\n",
    "        y2_ = x*m2\n",
    "        g1 = np.where(y<=y1_)[0]\n",
    "        g2 = np.where(np.logical_and(y>y1_,y<=y2_))[0]\n",
    "        g3 = np.where(y>y2_)[0]\n",
    "        return [g1,g2,g3]\n",
    "    else:\n",
    "        m = slope(angles[-1])\n",
    "        y_ = x*m\n",
    "        g1 = np.where(y<=y_)[-1]\n",
    "        g2 = np.where(y>y_)[-1]\n",
    "        return [g1,g2]\n",
    "    \n",
    "def lineClustering(x,y, dtheta=0.01, dx=0.5, window=10, plot=False):\n",
    "    angles, errors = lineFinder(x,y,dtheta=dtheta,dx=dx)\n",
    "    best_angles = optimizeAngles(angles,errors,window,plot=plot)\n",
    "    clusters = getGroups(x,y,best_angles)\n",
    "    return clusters"
   ]
  },
  {
   "cell_type": "code",
   "execution_count": 84,
   "metadata": {},
   "outputs": [
    {
     "data": {
      "image/png": "[encoded data removed]",
      "text/plain": [
       "<Figure size 432x288 with 1 Axes>"
      ]
     },
     "metadata": {
      "needs_background": "light"
     },
     "output_type": "display_data"
    }
   ],
   "source": [
    "evc_ = (evc-np.min(evc))/np.max(evc-np.min(evc))\n",
    "kc_ = (kc - np.min(kc))/np.max(kc-np.min(kc))\n",
    "\n",
    "clusters = lineClustering(evc_,kc_,dx=0.07,plot=True)"
   ]
  },
  {
   "cell_type": "code",
   "execution_count": 87,
   "metadata": {},
   "outputs": [
    {
     "name": "stdout",
     "output_type": "stream",
     "text": [
      "462\n",
      "12864\n"
     ]
    },
    {
     "data": {
      "image/png": "[encoded data removed]",
      "text/plain": [
       "<Figure size 432x288 with 1 Axes>"
      ]
     },
     "metadata": {
      "needs_background": "light"
     },
     "output_type": "display_data"
    }
   ],
   "source": [
    "for c in clusters:\n",
    "    print len(c)\n",
    "    plt.scatter(evc_[c],kc_[c],s=3)\n",
    "plt.xlabel('Eigenvector centrality (normalized)')\n",
    "plt.ylabel('Katz centrality (normalized)')\n",
    "plt.show()"
   ]
  },
  {
   "cell_type": "code",
   "execution_count": 88,
   "metadata": {},
   "outputs": [
    {
     "name": "stdout",
     "output_type": "stream",
     "text": [
      "Q:            0.022\n",
      "Qmax:         0.037\n",
      "Normalized Q: 0.595\n"
     ]
    }
   ],
   "source": [
    "ClassDict = {}\n",
    "for i,c in enumerate(clusters):\n",
    "    ClassDict[i] = [G.node_object(x) for x in c]\n",
    "\n",
    "ClassList = np.zeros(G.num_nodes)\n",
    "for i,c in enumerate(clusters):\n",
    "    ClassList[c]=i\n",
    "\n",
    "q,qmax = modularity(G,ClassDict,ClassList)\n",
    "print 'Q:            %.3f'%q\n",
    "print 'Qmax:         %.3f'%qmax\n",
    "print 'Normalized Q: %.3f'%(q/qmax)"
   ]
  },
  {
   "cell_type": "code",
   "execution_count": null,
   "metadata": {},
   "outputs": [],
   "source": []
  }
 ],
 "metadata": {
  "kernelspec": {
   "display_name": "Python 2",
   "language": "python",
   "name": "python2"
  },
  "language_info": {
   "codemirror_mode": {
    "name": "ipython",
    "version": 2
   },
   "file_extension": ".py",
   "mimetype": "text/x-python",
   "name": "python",
   "nbconvert_exporter": "python",
   "pygments_lexer": "ipython2",
   "version": "2.7.15"
  }
 },
 "nbformat": 4,
 "nbformat_minor": 2
}
