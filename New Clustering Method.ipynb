{
 "cells": [
  {
   "cell_type": "code",
   "execution_count": 10,
   "metadata": {},
   "outputs": [],
   "source": [
    "import numpy as np\n",
    "import zen\n",
    "import matplotlib.pyplot as plt\n",
    "import pandas as pd"
   ]
  },
  {
   "cell_type": "code",
   "execution_count": 11,
   "metadata": {},
   "outputs": [],
   "source": [
    "def katz(G,tol=0.01,max_iter=1000,alpha=0.001,beta=1):\n",
    "    iteration = 0\n",
    "    centrality = np.zeros(G.num_nodes)\n",
    "    while iteration < max_iter:\n",
    "        iteration += 1          # increment iteration count\n",
    "        centrality_old = centrality.copy()\n",
    "\n",
    "        for node in G.nodes_():\n",
    "            Ax = 0\n",
    "            for neighbor in G.neighbors_(node):\n",
    "                weight = G.weight_(G.edge_idx_(neighbor,node))\n",
    "                Ax += np.multiply(centrality[neighbor],weight)\n",
    "\n",
    "                #Ax += centrality[neighbor]      #exclude weight due to overflow in multiplication\n",
    "\n",
    "            centrality[node] = np.multiply(alpha,Ax)+beta\n",
    "\n",
    "        if np.sum(np.abs(np.subtract(centrality,centrality_old))) < tol:\n",
    "            return centrality\n",
    "def modularity(G,classDict,classList):\n",
    "    Q = zen.algorithms.modularity(G,classDict)\n",
    "    # Maximum Modularity\n",
    "    count=0.0\n",
    "    for e in G.edges():\n",
    "        n1 = G.node_idx(e[0])\n",
    "        n2 = G.node_idx(e[1])\n",
    "        if classList[n1] == classList[n2]:\n",
    "            count += 1\n",
    "    same = count / G.num_edges\n",
    "    rand = same - Q\n",
    "    qmax = 1 - rand\n",
    "    return Q, qmax"
   ]
  },
  {
   "cell_type": "code",
   "execution_count": 12,
   "metadata": {},
   "outputs": [],
   "source": [
    "def MSE(x,y,m):\n",
    "    '''\n",
    "    Not mean-squared-error, just too lazy to chance the function name.\n",
    "    Measures the orthogonal distance points are from the line through origin with slope m\n",
    "    '''\n",
    "    x_ = (m*y+x)/(m**2 + 1)\n",
    "    y_ = (y*(m**2) + m*x)/(m**2 + 1)\n",
    "    return np.sum(np.power(x-x_,2) + np.power(y-y_,2))\n",
    "    \n",
    "\n",
    "def slope(angle):\n",
    "    '''\n",
    "    Calculates linear slope of line with angle from x-axis (radians)\n",
    "    '''\n",
    "    return np.tan(angle)\n",
    "    \n",
    "def bound(x, y, slope, lineU, lineL):\n",
    "    '''\n",
    "    returns subset of x,y that are between the lines lineU and lineL\n",
    "    '''\n",
    "    upper = lineU(x,slope)\n",
    "    lower = lineL(x,slope)\n",
    "    return np.logical_and(y>=lower, y<=upper)\n",
    "\n",
    "def get_offsets(m,d):\n",
    "    '''\n",
    "    calculates the shift of a line that has an orthogonal distance d\n",
    "    from a line through the origin with slope m\n",
    "    '''\n",
    "    A = 1./(m**2) + 1\n",
    "    B = -2*A\n",
    "    C = (1./(m**2))+1 - d**2\n",
    "    \n",
    "    x1 = (-B + np.sqrt(B**2 - 4*A*C))/(2*A)\n",
    "    \n",
    "    y1 = m + (1./m) - (x1/m)\n",
    "    \n",
    "    b1 = y1 - m*x1\n",
    "    return b1\n",
    "\n",
    "def lineFinder(x, y, dtheta=0.01, dx=0.05):\n",
    "    theta=0\n",
    "    \n",
    "    line = lambda x,m: m*x\n",
    "    b_up = lambda x,m: m*(x)-get_offsets(m,dx)\n",
    "    b_low= lambda x,m: m*(x)+get_offsets(m,dx)\n",
    "    \n",
    "    thetas = np.arange(1e-4,np.pi/2,dtheta)\n",
    "    error = np.empty(len(thetas))\n",
    "    \n",
    "    for i,theta in enumerate(thetas):\n",
    "        m = slope(theta)\n",
    "        X = x[bound(x,y,m,b_up,b_low)]\n",
    "        Y = y[bound(x,y,m,b_up,b_low)]\n",
    "        error[i] = MSE(X,Y,m)*(len(X)/float(len(x)))\n",
    "    \n",
    "    return thetas, error\n",
    "\n",
    "def optimizeAngles(angle,error,N,plot=False):\n",
    "    N=10\n",
    "    x = pd.Series(error).rolling(window=N).mean().iloc[N-1:].values\n",
    "    x_ = np.diff(x)\n",
    "    t = angle[N:]\n",
    "    ang = []\n",
    "    for i in range(len(x_)):\n",
    "        if i != 0 and i != len(x_)-1:\n",
    "            if x_[i-1] < 0 and x_[i] >= 0:\n",
    "                ang.append(t[i])\n",
    "    if plot:\n",
    "        for a in ang:\n",
    "            plt.vlines(ymin=np.min(x),ymax=np.max(x),x=a*180/np.pi,linestyle='--',color='grey')\n",
    "        plt.plot(angle[N-1:]*180/np.pi,x)\n",
    "        plt.xlabel('Angle (deg.)')\n",
    "        plt.ylabel('Sum of Squared Orth. Error')\n",
    "        plt.title('Identification of Local Minima')\n",
    "        plt.show()\n",
    "\n",
    "    return ang\n",
    "\n",
    "def getGroups(x,y,angles):\n",
    "    if len(angles) == 1:\n",
    "        m = slope(angles[0])\n",
    "        y_ = x*m\n",
    "        g1 = np.where(y<=y_)[0]\n",
    "        g2 = np.where(y>y_)[0]\n",
    "        return [g1,g2]\n",
    "    elif len(angles) == 2:\n",
    "        m1 = slope(angles[0])\n",
    "        m2 = slope(angles[1])\n",
    "        y1_ = x*m1\n",
    "        y2_ = x*m2\n",
    "        g1 = np.where(y<=y1_)[0]\n",
    "        g2 = np.where(np.logical_and(y>y1_,y<=y2_))[0]\n",
    "        g3 = np.where(y>y2_)[0]\n",
    "        return [g1,g2,g3]"
   ]
  },
  {
   "cell_type": "code",
   "execution_count": 13,
   "metadata": {},
   "outputs": [],
   "source": [
    "def lineClustering(x,y, dtheta=0.01, dx=0.05, window=10, plot=False):\n",
    "    angles, errors = lineFinder(x,y,dtheta=dtheta,dx=dx)\n",
    "    best_angles = optimizeAngles(angles,errors,window,plot=plot)\n",
    "    clusters = getGroups(x,y,best_angles)\n",
    "    return clusters"
   ]
  },
  {
   "cell_type": "code",
   "execution_count": 14,
   "metadata": {},
   "outputs": [],
   "source": [
    "G = zen.io.gml.read('amazon_product.gml',weight_fxn=lambda x: x['weight'])\n",
    "\n",
    "evc = zen.algorithms.eigenvector_centrality_(G)\n",
    "kc = katz(G,alpha=1e-4)\n",
    "evc = evc - np.min(evc)\n",
    "evc = evc / np.max(evc)\n",
    "kc  = kc - np.min(kc)\n",
    "kc = kc / np.max(kc)"
   ]
  },
  {
   "cell_type": "code",
   "execution_count": 15,
   "metadata": {},
   "outputs": [
    {
     "data": {
      "image/png": "[encoded data removed]",
      "text/plain": [
       "<Figure size 432x288 with 1 Axes>"
      ]
     },
     "metadata": {
      "needs_background": "light"
     },
     "output_type": "display_data"
    }
   ],
   "source": [
    "clusters = lineClustering(evc,kc,dx=0.5,plot=True)"
   ]
  },
  {
   "cell_type": "code",
   "execution_count": 19,
   "metadata": {},
   "outputs": [
    {
     "data": {
      "image/png": "[encoded data removed]",
      "text/plain": [
       "<Figure size 432x288 with 1 Axes>"
      ]
     },
     "metadata": {
      "needs_background": "light"
     },
     "output_type": "display_data"
    }
   ],
   "source": [
    "for c in clusters:\n",
    "    plt.scatter(evc[c],kc[c],s=8)\n",
    "plt.xlabel('Eigenvector centrality (normalized)')\n",
    "plt.ylabel('Katz centrality (normalized)')\n",
    "plt.show()"
   ]
  },
  {
   "cell_type": "code",
   "execution_count": 17,
   "metadata": {},
   "outputs": [
    {
     "name": "stdout",
     "output_type": "stream",
     "text": [
      "Normalized Q: 0.968\n"
     ]
    }
   ],
   "source": [
    "ClassDict = {}\n",
    "for i,c in enumerate(clusters):\n",
    "    ClassDict[i] = [G.node_object(x) for x in c]\n",
    "\n",
    "ClassList = np.zeros(G.num_nodes)\n",
    "for i,c in enumerate(clusters):\n",
    "    ClassList[c[i]]=i\n",
    "\n",
    "q,qmax = modularity(G,ClassDict,ClassList)\n",
    "print 'Normalized Q: %.3f'%(q/qmax)"
   ]
  },
  {
   "cell_type": "code",
   "execution_count": null,
   "metadata": {},
   "outputs": [],
   "source": []
  }
 ],
 "metadata": {
  "kernelspec": {
   "display_name": "Python 2",
   "language": "python",
   "name": "python2"
  },
  "language_info": {
   "codemirror_mode": {
    "name": "ipython",
    "version": 2
   },
   "file_extension": ".py",
   "mimetype": "text/x-python",
   "name": "python",
   "nbconvert_exporter": "python",
   "pygments_lexer": "ipython2",
   "version": "2.7.15"
  }
 },
 "nbformat": 4,
 "nbformat_minor": 2
}
