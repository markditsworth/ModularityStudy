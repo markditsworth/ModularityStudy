{
 "cells": [
  {
   "cell_type": "code",
   "execution_count": 10,
   "metadata": {},
   "outputs": [],
   "source": [
    "import zen\n",
    "import pandas as pd\n",
    "import numpy as np\n",
    "import matplotlib.pyplot as plt\n",
    "from tqdm import tqdm_notebook as progress"
   ]
  },
  {
   "cell_type": "markdown",
   "metadata": {},
   "source": [
    "#### Compare the speed of the Katz-eigen plot method of community detection with that of Louvain community detection, using the 328-node Amazon product network."
   ]
  },
  {
   "cell_type": "code",
   "execution_count": 3,
   "metadata": {},
   "outputs": [],
   "source": [
    "G = zen.io.gml.read('amazon_product.gml')"
   ]
  },
  {
   "cell_type": "code",
   "execution_count": 4,
   "metadata": {},
   "outputs": [],
   "source": [
    "def katz(G,tol=0.01,max_iter=1000,alpha=0.001,beta=1):\n",
    "    iteration = 0\n",
    "    centrality = np.zeros(G.num_nodes)\n",
    "    while iteration < max_iter:\n",
    "        iteration += 1          # increment iteration count\n",
    "        centrality_old = centrality.copy()\n",
    "\n",
    "        for node in G.nodes_():\n",
    "            Ax = 0\n",
    "            for neighbor in G.neighbors_(node):\n",
    "                weight = G.weight_(G.edge_idx_(neighbor,node))\n",
    "                Ax += np.multiply(centrality[neighbor],weight)\n",
    "\n",
    "                #Ax += centrality[neighbor]      #exclude weight due to overflow in multiplication\n",
    "\n",
    "            centrality[node] = np.multiply(alpha,Ax)+beta\n",
    "\n",
    "        if np.sum(np.abs(np.subtract(centrality,centrality_old))) < tol:\n",
    "            return centrality"
   ]
  },
  {
   "cell_type": "code",
   "execution_count": 5,
   "metadata": {},
   "outputs": [],
   "source": [
    "def modular_graph(Size1, Size2, edges1, edges2, common, katz_alpha=0.001):\n",
    "    g1 = zen.generating.barabasi_albert(Size1,edges1)\n",
    "    avgDeg1 = (2.0 * g1.num_edges)/g1.num_nodes\n",
    "    lcc1 = np.mean(zen.algorithms.clustering.lcc_(g1))\n",
    "    \n",
    "    g2 = zen.generating.barabasi_albert(Size2,edges2)\n",
    "    avgDeg2 = (2.0 * g2.num_edges)/g2.num_nodes\n",
    "    lcc2 = np.mean(zen.algorithms.clustering.lcc_(g2))\n",
    "    \n",
    "    Size = Size1 + Size2\n",
    "    G = zen.Graph()\n",
    "    for i in range(Size):\n",
    "        G.add_node(i)\n",
    "\n",
    "    for edge in g1.edges_iter():\n",
    "        u = edge[0]\n",
    "        v = edge[1]\n",
    "        G.add_edge(u,v)\n",
    "\n",
    "    for edge in g2.edges_iter():\n",
    "        u = edge[0]+Size1\n",
    "        v = edge[1]+Size1\n",
    "        G.add_edge(u,v)\n",
    "\n",
    "    # Select random pairs of nodes to connect the subgraphs\n",
    "    join_nodes = np.empty((common,2),dtype=np.int64)\n",
    "    nodes1 = np.random.randint(0,Size1,size=common)\n",
    "    nodes2 = np.random.randint(Size1,Size,size=common)\n",
    "    join_nodes[:,0] = nodes1\n",
    "    join_nodes[:,1] = nodes2\n",
    "\n",
    "    for edge in join_nodes:\n",
    "        if not G.has_edge(edge[0],edge[1]):\n",
    "            G.add_edge(edge[0],edge[1])\n",
    "    \n",
    "    return G"
   ]
  },
  {
   "cell_type": "code",
   "execution_count": 6,
   "metadata": {
    "scrolled": true
   },
   "outputs": [],
   "source": [
    "def modularity(G,classDict,classList):\n",
    "    Q = zen.algorithms.modularity(G,classDict)\n",
    "    # Maximum Modularity\n",
    "    count=0.0\n",
    "    for e in G.edges():\n",
    "        n1 = G.node_idx(e[0])\n",
    "        n2 = G.node_idx(e[1])\n",
    "        if classList[n1] == classList[n2]:\n",
    "            count += 1\n",
    "    same = count / G.num_edges\n",
    "    rand = same - Q\n",
    "    qmax = 1 - rand\n",
    "    return Q, qmax"
   ]
  },
  {
   "cell_type": "code",
   "execution_count": 7,
   "metadata": {},
   "outputs": [],
   "source": [
    "from zen.algorithms.community import louvain\n",
    "from sklearn.cluster import AgglomerativeClustering as AC"
   ]
  },
  {
   "cell_type": "markdown",
   "metadata": {},
   "source": [
    "#### See if we can improve the modularity through better groupings of nodes"
   ]
  },
  {
   "cell_type": "code",
   "execution_count": 12,
   "metadata": {},
   "outputs": [],
   "source": [
    "cset = louvain(G)\n",
    "evc = zen.algorithms.eigenvector_centrality_(G)\n",
    "evc = evc - np.min(evc)\n",
    "evc = evc/np.max(evc)\n",
    "kc = katz(G,alpha=1e-4)\n",
    "kc = kc - np.min(kc)\n",
    "kc = kc/np.max(kc)"
   ]
  },
  {
   "cell_type": "code",
   "execution_count": 13,
   "metadata": {},
   "outputs": [
    {
     "data": {
      "text/plain": [
       "<matplotlib.legend.Legend at 0x7fe091cf0850>"
      ]
     },
     "execution_count": 13,
     "metadata": {},
     "output_type": "execute_result"
    },
    {
     "data": {
      "image/png": "[encoded data removed]",
      "text/plain": [
       "<Figure size 432x288 with 1 Axes>"
      ]
     },
     "metadata": {
      "needs_background": "light"
     },
     "output_type": "display_data"
    }
   ],
   "source": [
    "for i,community in enumerate(cset.communities()):\n",
    "    if i+1 in [2,10,9]:\n",
    "        nodes = community.nodes_()\n",
    "        plt.scatter(evc[nodes],kc[nodes],s=8,label=(i+1))\n",
    "plt.legend()"
   ]
  },
  {
   "cell_type": "code",
   "execution_count": 14,
   "metadata": {},
   "outputs": [
    {
     "data": {
      "text/plain": [
       "<matplotlib.legend.Legend at 0x7fe08fc76310>"
      ]
     },
     "execution_count": 14,
     "metadata": {},
     "output_type": "execute_result"
    },
    {
     "data": {
      "image/png": "[encoded data removed]",
      "text/plain": [
       "<Figure size 432x288 with 1 Axes>"
      ]
     },
     "metadata": {
      "needs_background": "light"
     },
     "output_type": "display_data"
    }
   ],
   "source": [
    "for i,community in enumerate(cset.communities()):\n",
    "    if i+1 not in [2,10,9]:\n",
    "        nodes = community.nodes_()\n",
    "        plt.scatter(evc[nodes],kc[nodes],s=8,label=(i+1))\n",
    "plt.legend()"
   ]
  },
  {
   "cell_type": "code",
   "execution_count": 15,
   "metadata": {},
   "outputs": [
    {
     "name": "stdout",
     "output_type": "stream",
     "text": [
      "Normalized Q: 0.982\n"
     ]
    }
   ],
   "source": [
    "comm1 = []\n",
    "comm2 = []\n",
    "\n",
    "for i,community in enumerate(cset.communities()):\n",
    "    nodes = list(community.nodes_())\n",
    "    if i+1 in [2,10,9]:\n",
    "        comm1.extend(nodes)\n",
    "    else:\n",
    "        comm2.extend(nodes)\n",
    "ClassDict = {0:[G.node_object(x) for x in comm1], 1:[G.node_object(y) for y in comm2]}\n",
    "ClassList = np.zeros(G.num_nodes)\n",
    "ClassList[comm2] = 1\n",
    "\n",
    "q,qmax = modularity(G,ClassDict,ClassList)\n",
    "print 'Normalized Q: %.3f'%(q/qmax)"
   ]
  },
  {
   "cell_type": "markdown",
   "metadata": {},
   "source": [
    "## Test on synthetic graphs"
   ]
  },
  {
   "cell_type": "code",
   "execution_count": 51,
   "metadata": {},
   "outputs": [
    {
     "name": "stdout",
     "output_type": "stream",
     "text": [
      "Nodes: 1000\n",
      "Edges: 16975\n"
     ]
    }
   ],
   "source": [
    "G_synth = modular_graph(500,500,15,20,100,katz_alpha=1e-4)\n",
    "print \"Nodes: %d\"%G_synth.num_nodes\n",
    "print \"Edges: %d\"%G_synth.num_edges"
   ]
  },
  {
   "cell_type": "markdown",
   "metadata": {},
   "source": [
    "#### Here, KE and Louvain both find 2 communities with the same modularity, suggesting their communities are identical. Verifying below."
   ]
  },
  {
   "cell_type": "code",
   "execution_count": 55,
   "metadata": {},
   "outputs": [
    {
     "data": {
      "text/plain": [
       "<matplotlib.collections.PathCollection at 0x7f4dc58b7d90>"
      ]
     },
     "execution_count": 55,
     "metadata": {},
     "output_type": "execute_result"
    },
    {
     "data": {
      "image/png": "[encoded data removed]",
      "text/plain": [
       "<Figure size 432x288 with 1 Axes>"
      ]
     },
     "metadata": {
      "needs_background": "light"
     },
     "output_type": "display_data"
    }
   ],
   "source": [
    "import matplotlib.pyplot as plt\n",
    "evc = zen.algorithms.eigenvector_centrality_(G_synth)\n",
    "kc = katz(G_synth,alpha=1e-4)\n",
    "evc = evc - np.min(evc)\n",
    "evc = evc / np.max(evc)\n",
    "kc  = kc - np.min(kc)\n",
    "kc = kc / np.max(kc)\n",
    "\n",
    "# make feature set\n",
    "X = np.empty((len(evc),2))\n",
    "X[:,0] = evc\n",
    "X[:,1] = kc\n",
    "\n",
    "#[0,0]s will not be compatible with cosine similarity since they have no magnitude. Add small amount.\n",
    "s = pd.Series(np.array(np.where(X==0))[0])\n",
    "X[s[s.duplicated()].values,:] = [1e-12,1e-12]\n",
    "\n",
    "# detect communities\n",
    "clusters = AC(n_clusters=2,affinity='cosine',linkage='complete').fit(X)\n",
    "labels = clusters.labels_\n",
    "plt.scatter(evc[np.where(labels==0)[0]],kc[np.where(labels==0)[0]],color='b')\n",
    "plt.scatter(evc[np.where(labels==1)[0]],kc[np.where(labels==1)[0]],color='r')"
   ]
  },
  {
   "cell_type": "code",
   "execution_count": 66,
   "metadata": {},
   "outputs": [],
   "source": [
    "cset = louvain(G_synth)"
   ]
  },
  {
   "cell_type": "code",
   "execution_count": 67,
   "metadata": {},
   "outputs": [
    {
     "name": "stdout",
     "output_type": "stream",
     "text": [
      "True\n",
      "True\n"
     ]
    }
   ],
   "source": [
    "louvain_com1 = cset.communities()[0].nodes_()\n",
    "louvain_com2 = cset.communities()[1].nodes_()\n",
    "\n",
    "ke_com1 = np.arange(1000)[np.where(labels==1)[0]]\n",
    "ke_com2 = np.arange(1000)[np.where(labels==0)[0]]\n",
    "\n",
    "print (louvain_com1 == ke_com1).all()\n",
    "print (louvain_com2 == ke_com2).all()"
   ]
  },
  {
   "cell_type": "markdown",
   "metadata": {},
   "source": [
    "#### It is verified that both KE and Louvain found the same communities. Now let's look at a scenario where agglomerative clustering fails."
   ]
  },
  {
   "cell_type": "code",
   "execution_count": 16,
   "metadata": {},
   "outputs": [
    {
     "name": "stdout",
     "output_type": "stream",
     "text": [
      "Nodes: 1000\n",
      "Edges: 5032\n"
     ]
    }
   ],
   "source": [
    "G_synth = modular_graph(500,500,2,8,100,katz_alpha=1e-4)\n",
    "print \"Nodes: %d\"%G_synth.num_nodes\n",
    "print \"Edges: %d\"%G_synth.num_edges"
   ]
  },
  {
   "cell_type": "markdown",
   "metadata": {},
   "source": [
    "#### The KE communities had poor modularity; much worse than those found by Louvain. This is because the agglomerative clustering algorithm failed to separate the clear clusters."
   ]
  },
  {
   "cell_type": "code",
   "execution_count": 18,
   "metadata": {},
   "outputs": [],
   "source": [
    "def MSE(x,y,m):\n",
    "    '''\n",
    "    Not mean-squared-error, just too lazy to chance the function name.\n",
    "    Measures the orthogonal distance points are from the line through origin with slope m\n",
    "    '''\n",
    "    x_ = (m*y+x)/(m**2 + 1)\n",
    "    y_ = (y*(m**2) + m*x)/(m**2 + 1)\n",
    "    return np.sum(np.power(x-x_,2) + np.power(y-y_,2))/len(x)\n",
    "    \n",
    "\n",
    "def slope(angle):\n",
    "    '''\n",
    "    Calculates linear slope of line with angle from x-axis (radians)\n",
    "    '''\n",
    "    return np.tan(angle)\n",
    "    \n",
    "def bound(x, y, slope, lineU, lineL):\n",
    "    '''\n",
    "    returns subset of x,y that are between the lines lineU and lineL\n",
    "    '''\n",
    "    upper = lineU(x,slope)\n",
    "    lower = lineL(x,slope)\n",
    "    return np.logical_and(y>=lower, y<=upper)\n",
    "\n",
    "def get_offsets(m,d):\n",
    "    '''\n",
    "    calculates the shift of a line that has an orthogonal distance d\n",
    "    from a line through the origin with slope m\n",
    "    '''\n",
    "    A = 1./(m**2) + 1\n",
    "    B = -2*A\n",
    "    C = (1./(m**2))+1 - d**2\n",
    "    \n",
    "    x1 = (-B + np.sqrt(B**2 - 4*A*C))/(2*A)\n",
    "    \n",
    "    y1 = m + (1./m) - (x1/m)\n",
    "    \n",
    "    b1 = y1 - m*x1\n",
    "    return b1\n",
    "\n",
    "def lineFinder(x, y, dtheta=0.01, dx=0.05):\n",
    "    theta=0\n",
    "    \n",
    "    line = lambda x,m: m*x\n",
    "    b_up = lambda x,m: m*(x)-get_offsets(m,dx)\n",
    "    b_low= lambda x,m: m*(x)+get_offsets(m,dx)\n",
    "    \n",
    "    thetas = np.arange(1e-4,np.pi/2,dtheta)\n",
    "    error = np.empty(len(thetas))\n",
    "    \n",
    "    for i,theta in enumerate(thetas):\n",
    "        m = slope(theta)\n",
    "        X = x[bound(x,y,m,b_up,b_low)]\n",
    "        Y = y[bound(x,y,m,b_up,b_low)]\n",
    "        error[i] = MSE(X,Y,m)*(len(X)/float(len(x)))\n",
    "    \n",
    "    return thetas, error\n",
    "\n",
    "def optimizeAngles(angle,error,N,plot=False):\n",
    "    N=10\n",
    "    x = pd.Series(error).rolling(window=N).mean().iloc[N-1:].values\n",
    "    x_ = np.diff(x)\n",
    "    t = angle[N:]\n",
    "    ang = []\n",
    "    for i in range(len(x_)):\n",
    "        if i != 0 and i != len(x_)-1:\n",
    "            if x_[i-1] < 0 and x_[i] >= 0:\n",
    "                ang.append(t[i])\n",
    "    if plot:\n",
    "        for a in ang:\n",
    "            plt.vlines(ymin=np.min(x),ymax=np.max(x),x=a*180/np.pi,linestyle='--',color='grey')\n",
    "        plt.plot(angle[N-1:]*180/np.pi,x)\n",
    "        plt.xlabel('Angle (deg.)')\n",
    "        plt.ylabel('Sum of Squared Orth. Error')\n",
    "        plt.title('Identification of Local Minima')\n",
    "        plt.show()\n",
    "\n",
    "    return ang\n",
    "\n",
    "def getGroups(x,y,angles):\n",
    "    if len(angles) == 1:\n",
    "        m = slope(angles[0])\n",
    "        y_ = x*m\n",
    "        g1 = np.where(y<=y_)[0]\n",
    "        g2 = np.where(y>y_)[0]\n",
    "        return [g1,g2]\n",
    "    elif len(angles) == 2:\n",
    "        m1 = slope(angles[0])\n",
    "        m2 = slope(angles[1])\n",
    "        y1_ = x*m1\n",
    "        y2_ = x*m2\n",
    "        g1 = np.where(y<=y1_)[0]\n",
    "        g2 = np.where(np.logical_and(y>y1_,y<=y2_))[0]\n",
    "        g3 = np.where(y>y2_)[0]\n",
    "        return [g1,g2,g3]\n",
    "    elif len(angles) == 3:\n",
    "        m1 = slope(angles[0])\n",
    "        m2 = slope(angles[1])\n",
    "        m3 = slope(angles[2])\n",
    "        y1_ = x*m1\n",
    "        y2_ = x*m2\n",
    "        y3_ = x*m3\n",
    "        g1 = np.where(y<=y1_)[0]\n",
    "        g2 = np.where(np.logical_and(y>y1_,y<=y2_))[0]\n",
    "        g3 = np.where(np.logical_and(y>y2_,y<=y3_))[0]\n",
    "        g4 = np.where(y>y3_)[0]\n",
    "        return [g1,g2,g3,g4]\n",
    "    \n",
    "def lineClustering(x,y, dtheta=0.01, dx=0.5, window=10, plot=False):\n",
    "    angles, errors = lineFinder(x,y,dtheta=dtheta,dx=dx)\n",
    "    best_angles = optimizeAngles(angles,errors,window,plot=plot)\n",
    "    clusters = getGroups(x,y,best_angles)\n",
    "    return clusters"
   ]
  },
  {
   "cell_type": "code",
   "execution_count": 30,
   "metadata": {},
   "outputs": [
    {
     "data": {
      "image/png": "[encoded data removed]",
      "text/plain": [
       "<Figure size 432x288 with 1 Axes>"
      ]
     },
     "metadata": {
      "needs_background": "light"
     },
     "output_type": "display_data"
    },
    {
     "name": "stdout",
     "output_type": "stream",
     "text": [
      "Q:            0.139\n",
      "Qmax:         0.250\n",
      "Normalized Q: 0.555\n"
     ]
    }
   ],
   "source": [
    "evc = zen.algorithms.eigenvector_centrality_(G_synth)\n",
    "kc = katz(G_synth,alpha=1e-4)\n",
    "evc = evc - np.min(evc)\n",
    "evc = evc / np.max(evc)\n",
    "kc  = kc - np.min(kc)\n",
    "kc = kc / np.max(kc)\n",
    "\n",
    "# make feature set\n",
    "X = np.empty((len(evc),2))\n",
    "X[:,0] = evc\n",
    "X[:,1] = kc\n",
    "\n",
    "#[0,0]s will not be compatible with cosine similarity since they have no magnitude. Add small amount.\n",
    "s = pd.Series(np.array(np.where(X==0))[0])\n",
    "X[s[s.duplicated()].values,:] = [1e-12,1e-12]\n",
    "\n",
    "# detect communities\n",
    "clusters_ = lineClustering(evc,kc,dx=0.1)\n",
    "\n",
    "clusters = [np.hstack((clusters_[0],clusters_[1])), np.hstack((clusters_[2],clusters_[3]))]\n",
    "for c in clusters:\n",
    "    plt.scatter(evc[c],kc[c],s=8)\n",
    "plt.xlabel('Eigenvector centrality (normalized)')\n",
    "plt.ylabel('Katz centrality (normalized)')\n",
    "plt.show()\n",
    "\n",
    "ClassDict = {}\n",
    "for i,c in enumerate(clusters):\n",
    "    ClassDict[i] = [G_synth.node_object(x) for x in c]\n",
    "\n",
    "ClassList = np.zeros(G_synth.num_nodes)\n",
    "for i,c in enumerate(clusters):\n",
    "    ClassList[c]=i\n",
    "\n",
    "q,qmax = modularity(G_synth,ClassDict,ClassList)\n",
    "print 'Q:            %.3f'%q\n",
    "print 'Qmax:         %.3f'%qmax\n",
    "print 'Normalized Q: %.3f'%(q/qmax)"
   ]
  },
  {
   "cell_type": "markdown",
   "metadata": {},
   "source": [
    "#### There are many red nodes that should be colored green. It is noteworthy though that the Louvain communities are largely divided between the two obvious clusters"
   ]
  },
  {
   "cell_type": "code",
   "execution_count": 36,
   "metadata": {},
   "outputs": [
    {
     "name": "stdout",
     "output_type": "stream",
     "text": [
      "17 communities found.\n",
      "Q:            0.278\n",
      "Qmax:         0.903\n",
      "Normalized Q: 0.307\n"
     ]
    }
   ],
   "source": [
    "cset = louvain(G_synth)\n",
    "comm_dict = {}\n",
    "comm_list = np.zeros(G_synth.num_nodes)\n",
    "for i,community in enumerate(cset.communities()):\n",
    "    comm_dict[i] = community.nodes()\n",
    "    comm_list[community.nodes_()] = i\n",
    "\n",
    "q,qmax = modularity(G_synth,comm_dict,comm_list)\n",
    "print '%d communities found.'%(i+1)\n",
    "print 'Q:            %.3f'%q\n",
    "print 'Qmax:         %.3f'%qmax\n",
    "print 'Normalized Q: %.3f'%(q/qmax)"
   ]
  },
  {
   "cell_type": "code",
   "execution_count": 101,
   "metadata": {},
   "outputs": [
    {
     "data": {
      "text/plain": [
       "<matplotlib.legend.Legend at 0x7f4dc4cfe950>"
      ]
     },
     "execution_count": 101,
     "metadata": {},
     "output_type": "execute_result"
    },
    {
     "data": {
      "image/png": "[encoded data removed]",
      "text/plain": [
       "<Figure size 432x288 with 1 Axes>"
      ]
     },
     "metadata": {
      "needs_background": "light"
     },
     "output_type": "display_data"
    }
   ],
   "source": [
    "for i,com in enumerate(cset.communities()):\n",
    "    if i+1 in [1,3,4,5,6,2]:\n",
    "        nodes = com.nodes_()\n",
    "        plt.scatter(evc[nodes],kc[nodes],s=7,label='%d'%(i+1))\n",
    "\n",
    "plt.ylim([-0.01,0.2])\n",
    "plt.xlim([-0.01,0.2])\n",
    "plt.legend()"
   ]
  },
  {
   "cell_type": "code",
   "execution_count": 99,
   "metadata": {},
   "outputs": [
    {
     "data": {
      "text/plain": [
       "<matplotlib.legend.Legend at 0x7f4dc4e64190>"
      ]
     },
     "execution_count": 99,
     "metadata": {},
     "output_type": "execute_result"
    },
    {
     "data": {
      "image/png": "[encoded data removed]",
      "text/plain": [
       "<Figure size 432x288 with 1 Axes>"
      ]
     },
     "metadata": {
      "needs_background": "light"
     },
     "output_type": "display_data"
    }
   ],
   "source": [
    "for i,com in enumerate(cset.communities()):\n",
    "    if i+1 not in [1,3,4,5,6,2]:\n",
    "        nodes = com.nodes_()\n",
    "        plt.scatter(evc[nodes],kc[nodes],s=7,label='%d'%(i+1))\n",
    "\n",
    "plt.ylim([-0.01,0.2])\n",
    "plt.xlim([-0.01,0.2])\n",
    "plt.legend()"
   ]
  },
  {
   "cell_type": "markdown",
   "metadata": {},
   "source": [
    "#### Communities 1-6 are largely in the verticle cluster, and 7-13 are in the diagonal cluster. Louvain community detection is essentially classifying the communities in the same manner as the KE method, but with longer runtime and more sensitivity to noise. It we look the modularity resulting from choosing communites by membership in Louvain 1-6 and Louvain 7-13 (in this case it's basically nodes with eigenvector centrality less than/greater than 0.025) we see ..."
   ]
  },
  {
   "cell_type": "code",
   "execution_count": 35,
   "metadata": {},
   "outputs": [
    {
     "name": "stdout",
     "output_type": "stream",
     "text": [
      "0.309446884929\n",
      "0.329319698919\n",
      "0.93965494911\n"
     ]
    }
   ],
   "source": [
    "idx = np.where(evc>0.025)[0]\n",
    "\n",
    "nodes = G_synth.nodes_()\n",
    "c1 = nodes[idx]\n",
    "c2 = nodes[~idx]\n",
    "\n",
    "ClassDict = {}\n",
    "ClassDict[0] = [G_synth.node_object(x) for x in c1]\n",
    "ClassDict[1] = [G_synth.node_object(x) for x in c2]\n",
    "\n",
    "ClassList = np.zeros(G_synth.num_nodes)\n",
    "ClassList[c2] = 1\n",
    "\n",
    "q,qmax = modularity(G_synth,ClassDict,ClassList)\n",
    "print q\n",
    "print qmax\n",
    "print q/qmax"
   ]
  },
  {
   "cell_type": "code",
   "execution_count": null,
   "metadata": {},
   "outputs": [],
   "source": []
  }
 ],
 "metadata": {
  "kernelspec": {
   "display_name": "Python 2",
   "language": "python",
   "name": "python2"
  },
  "language_info": {
   "codemirror_mode": {
    "name": "ipython",
    "version": 2
   },
   "file_extension": ".py",
   "mimetype": "text/x-python",
   "name": "python",
   "nbconvert_exporter": "python",
   "pygments_lexer": "ipython2",
   "version": "2.7.15"
  }
 },
 "nbformat": 4,
 "nbformat_minor": 2
}
