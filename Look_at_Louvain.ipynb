{
 "cells": [
  {
   "cell_type": "code",
   "execution_count": 3,
   "metadata": {},
   "outputs": [],
   "source": [
    "import zen\n",
    "import pandas as pd\n",
    "import numpy as np\n",
    "from tqdm import tqdm_notebook as progress"
   ]
  },
  {
   "cell_type": "markdown",
   "metadata": {},
   "source": [
    "#### Compare the speed of the Katz-eigen plot method of community detection with that of Louvain community detection, using the 328-node Amazon product network."
   ]
  },
  {
   "cell_type": "code",
   "execution_count": 4,
   "metadata": {},
   "outputs": [],
   "source": [
    "G = zen.io.gml.read('amazon_product.gml')"
   ]
  },
  {
   "cell_type": "code",
   "execution_count": 4,
   "metadata": {},
   "outputs": [],
   "source": [
    "def katz(G,tol=0.01,max_iter=1000,alpha=0.001,beta=1):\n",
    "    iteration = 0\n",
    "    centrality = np.zeros(G.num_nodes)\n",
    "    while iteration < max_iter:\n",
    "        iteration += 1          # increment iteration count\n",
    "        centrality_old = centrality.copy()\n",
    "\n",
    "        for node in G.nodes_():\n",
    "            Ax = 0\n",
    "            for neighbor in G.neighbors_(node):\n",
    "                weight = G.weight_(G.edge_idx_(neighbor,node))\n",
    "                Ax += np.multiply(centrality[neighbor],weight)\n",
    "\n",
    "                #Ax += centrality[neighbor]      #exclude weight due to overflow in multiplication\n",
    "\n",
    "            centrality[node] = np.multiply(alpha,Ax)+beta\n",
    "\n",
    "        if np.sum(np.abs(np.subtract(centrality,centrality_old))) < tol:\n",
    "            return centrality"
   ]
  },
  {
   "cell_type": "code",
   "execution_count": 1,
   "metadata": {},
   "outputs": [],
   "source": [
    "def modular_graph(Size1, Size2, edges1, edges2, common, katz_alpha=0.001):\n",
    "    g1 = zen.generating.barabasi_albert(Size1,edges1)\n",
    "    avgDeg1 = (2.0 * g1.num_edges)/g1.num_nodes\n",
    "    lcc1 = np.mean(zen.algorithms.clustering.lcc_(g1))\n",
    "    \n",
    "    g2 = zen.generating.barabasi_albert(Size2,edges2)\n",
    "    avgDeg2 = (2.0 * g2.num_edges)/g2.num_nodes\n",
    "    lcc2 = np.mean(zen.algorithms.clustering.lcc_(g2))\n",
    "    \n",
    "    Size = Size1 + Size2\n",
    "    G = zen.Graph()\n",
    "    for i in range(Size):\n",
    "        G.add_node(i)\n",
    "\n",
    "    for edge in g1.edges_iter():\n",
    "        u = edge[0]\n",
    "        v = edge[1]\n",
    "        G.add_edge(u,v)\n",
    "\n",
    "    for edge in g2.edges_iter():\n",
    "        u = edge[0]+Size1\n",
    "        v = edge[1]+Size1\n",
    "        G.add_edge(u,v)\n",
    "\n",
    "    # Select random pairs of nodes to connect the subgraphs\n",
    "    join_nodes = np.empty((common,2),dtype=np.int64)\n",
    "    nodes1 = np.random.randint(0,Size1,size=common)\n",
    "    nodes2 = np.random.randint(Size1,Size,size=common)\n",
    "    join_nodes[:,0] = nodes1\n",
    "    join_nodes[:,1] = nodes2\n",
    "\n",
    "    for edge in join_nodes:\n",
    "        if not G.has_edge(edge[0],edge[1]):\n",
    "            G.add_edge(edge[0],edge[1])\n",
    "    \n",
    "    return G"
   ]
  },
  {
   "cell_type": "code",
   "execution_count": 5,
   "metadata": {
    "scrolled": true
   },
   "outputs": [],
   "source": [
    "def modularity(G,classDict,classList):\n",
    "    Q = zen.algorithms.modularity(G,classDict)\n",
    "    # Maximum Modularity\n",
    "    count=0.0\n",
    "    for e in G.edges():\n",
    "        n1 = G.node_idx(e[0])\n",
    "        n2 = G.node_idx(e[1])\n",
    "        if classList[n1] == classList[n2]:\n",
    "            count += 1\n",
    "    same = count / G.num_edges\n",
    "    rand = same - Q\n",
    "    qmax = 1 - rand\n",
    "    return Q, qmax"
   ]
  },
  {
   "cell_type": "code",
   "execution_count": 1,
   "metadata": {},
   "outputs": [],
   "source": [
    "from zen.algorithms.community import louvain\n",
    "from sklearn.cluster import AgglomerativeClustering as AC"
   ]
  },
  {
   "cell_type": "markdown",
   "metadata": {},
   "source": [
    "#### See if we can improve the modularity through better groupings of nodes"
   ]
  },
  {
   "cell_type": "code",
   "execution_count": 112,
   "metadata": {},
   "outputs": [],
   "source": [
    "cset = louvain(G)"
   ]
  },
  {
   "cell_type": "code",
   "execution_count": 121,
   "metadata": {},
   "outputs": [
    {
     "data": {
      "text/plain": [
       "<matplotlib.legend.Legend at 0x7f4dc4a8ebd0>"
      ]
     },
     "execution_count": 121,
     "metadata": {},
     "output_type": "execute_result"
    },
    {
     "data": {
      "image/png": "[encoded data removed]",
      "text/plain": [
       "<Figure size 432x288 with 1 Axes>"
      ]
     },
     "metadata": {
      "needs_background": "light"
     },
     "output_type": "display_data"
    }
   ],
   "source": [
    "for i,community in enumerate(cset.communities()):\n",
    "    if i+1 in [2,10,9]:\n",
    "        nodes = community.nodes_()\n",
    "        plt.scatter(evc[nodes],kc[nodes],s=8,label=(i+1))\n",
    "plt.legend()"
   ]
  },
  {
   "cell_type": "code",
   "execution_count": 119,
   "metadata": {},
   "outputs": [
    {
     "data": {
      "text/plain": [
       "<matplotlib.legend.Legend at 0x7f4dc433cf90>"
      ]
     },
     "execution_count": 119,
     "metadata": {},
     "output_type": "execute_result"
    },
    {
     "data": {
      "image/png": "[encoded data removed]",
      "text/plain": [
       "<Figure size 432x288 with 1 Axes>"
      ]
     },
     "metadata": {
      "needs_background": "light"
     },
     "output_type": "display_data"
    }
   ],
   "source": [
    "for i,community in enumerate(cset.communities()):\n",
    "    if i+1 not in [2,10,9]:\n",
    "        nodes = community.nodes_()\n",
    "        plt.scatter(evc[nodes],kc[nodes],s=8,label=(i+1))\n",
    "plt.legend()"
   ]
  },
  {
   "cell_type": "code",
   "execution_count": 131,
   "metadata": {},
   "outputs": [
    {
     "name": "stdout",
     "output_type": "stream",
     "text": [
      "Normalized Q: 0.982\n"
     ]
    }
   ],
   "source": [
    "comm1 = []\n",
    "comm2 = []\n",
    "\n",
    "for i,community in enumerate(cset.communities()):\n",
    "    nodes = list(community.nodes_())\n",
    "    if i+1 in [2,10,9]:\n",
    "        comm1.extend(nodes)\n",
    "    else:\n",
    "        comm2.extend(nodes)\n",
    "ClassDict = {0:[G.node_object(x) for x in comm1], 1:[G.node_object(y) for y in comm2]}\n",
    "ClassList = np.zeros(G.num_nodes)\n",
    "ClassList[comm2] = 1\n",
    "\n",
    "q,qmax = modularity(G,ClassDict,ClassList)\n",
    "print 'Normalized Q: %.3f'%(q/qmax)"
   ]
  },
  {
   "cell_type": "markdown",
   "metadata": {},
   "source": [
    "## Test on synthetic graphs"
   ]
  },
  {
   "cell_type": "code",
   "execution_count": 51,
   "metadata": {},
   "outputs": [
    {
     "name": "stdout",
     "output_type": "stream",
     "text": [
      "Nodes: 1000\n",
      "Edges: 16975\n"
     ]
    }
   ],
   "source": [
    "G_synth = modular_graph(500,500,15,20,100,katz_alpha=1e-4)\n",
    "print \"Nodes: %d\"%G_synth.num_nodes\n",
    "print \"Edges: %d\"%G_synth.num_edges"
   ]
  },
  {
   "cell_type": "markdown",
   "metadata": {},
   "source": [
    "#### Here, KE and Louvain both find 2 communities with the same modularity, suggesting their communities are identical. Verifying below."
   ]
  },
  {
   "cell_type": "code",
   "execution_count": 55,
   "metadata": {},
   "outputs": [
    {
     "data": {
      "text/plain": [
       "<matplotlib.collections.PathCollection at 0x7f4dc58b7d90>"
      ]
     },
     "execution_count": 55,
     "metadata": {},
     "output_type": "execute_result"
    },
    {
     "data": {
      "image/png": "[encoded data removed]",
      "text/plain": [
       "<Figure size 432x288 with 1 Axes>"
      ]
     },
     "metadata": {
      "needs_background": "light"
     },
     "output_type": "display_data"
    }
   ],
   "source": [
    "import matplotlib.pyplot as plt\n",
    "evc = zen.algorithms.eigenvector_centrality_(G_synth)\n",
    "kc = katz(G_synth,alpha=1e-4)\n",
    "evc = evc - np.min(evc)\n",
    "evc = evc / np.max(evc)\n",
    "kc  = kc - np.min(kc)\n",
    "kc = kc / np.max(kc)\n",
    "\n",
    "# make feature set\n",
    "X = np.empty((len(evc),2))\n",
    "X[:,0] = evc\n",
    "X[:,1] = kc\n",
    "\n",
    "#[0,0]s will not be compatible with cosine similarity since they have no magnitude. Add small amount.\n",
    "s = pd.Series(np.array(np.where(X==0))[0])\n",
    "X[s[s.duplicated()].values,:] = [1e-12,1e-12]\n",
    "\n",
    "# detect communities\n",
    "clusters = AC(n_clusters=2,affinity='cosine',linkage='complete').fit(X)\n",
    "labels = clusters.labels_\n",
    "plt.scatter(evc[np.where(labels==0)[0]],kc[np.where(labels==0)[0]],color='b')\n",
    "plt.scatter(evc[np.where(labels==1)[0]],kc[np.where(labels==1)[0]],color='r')"
   ]
  },
  {
   "cell_type": "code",
   "execution_count": 66,
   "metadata": {},
   "outputs": [],
   "source": [
    "cset = louvain(G_synth)"
   ]
  },
  {
   "cell_type": "code",
   "execution_count": 67,
   "metadata": {},
   "outputs": [
    {
     "name": "stdout",
     "output_type": "stream",
     "text": [
      "True\n",
      "True\n"
     ]
    }
   ],
   "source": [
    "louvain_com1 = cset.communities()[0].nodes_()\n",
    "louvain_com2 = cset.communities()[1].nodes_()\n",
    "\n",
    "ke_com1 = np.arange(1000)[np.where(labels==1)[0]]\n",
    "ke_com2 = np.arange(1000)[np.where(labels==0)[0]]\n",
    "\n",
    "print (louvain_com1 == ke_com1).all()\n",
    "print (louvain_com2 == ke_com2).all()"
   ]
  },
  {
   "cell_type": "markdown",
   "metadata": {},
   "source": [
    "#### It is verified that both KE and Louvain found the same communities. Now let's look at a scenario where agglomerative clustering fails."
   ]
  },
  {
   "cell_type": "code",
   "execution_count": 70,
   "metadata": {},
   "outputs": [
    {
     "name": "stdout",
     "output_type": "stream",
     "text": [
      "Nodes: 1000\n",
      "Edges: 5032\n"
     ]
    }
   ],
   "source": [
    "G_synth = modular_graph(500,500,2,8,100,katz_alpha=1e-4)\n",
    "print \"Nodes: %d\"%G_synth.num_nodes\n",
    "print \"Edges: %d\"%G_synth.num_edges"
   ]
  },
  {
   "cell_type": "markdown",
   "metadata": {},
   "source": [
    "#### The KE communities had poor modularity; much worse than those found by Louvain. This is because the agglomerative clustering algorithm failed to separate the clear clusters."
   ]
  },
  {
   "cell_type": "code",
   "execution_count": 75,
   "metadata": {},
   "outputs": [
    {
     "data": {
      "text/plain": [
       "<matplotlib.collections.PathCollection at 0x7f4dc56265d0>"
      ]
     },
     "execution_count": 75,
     "metadata": {},
     "output_type": "execute_result"
    },
    {
     "data": {
      "image/png": "[encoded data removed]",
      "text/plain": [
       "<Figure size 432x288 with 1 Axes>"
      ]
     },
     "metadata": {
      "needs_background": "light"
     },
     "output_type": "display_data"
    }
   ],
   "source": [
    "evc = zen.algorithms.eigenvector_centrality_(G_synth)\n",
    "kc = katz(G_synth,alpha=1e-4)\n",
    "evc = evc - np.min(evc)\n",
    "evc = evc / np.max(evc)\n",
    "kc  = kc - np.min(kc)\n",
    "kc = kc / np.max(kc)\n",
    "\n",
    "# make feature set\n",
    "X = np.empty((len(evc),2))\n",
    "X[:,0] = evc\n",
    "X[:,1] = kc\n",
    "\n",
    "#[0,0]s will not be compatible with cosine similarity since they have no magnitude. Add small amount.\n",
    "s = pd.Series(np.array(np.where(X==0))[0])\n",
    "X[s[s.duplicated()].values,:] = [1e-12,1e-12]\n",
    "\n",
    "# detect communities\n",
    "clusters = AC(n_clusters=2,affinity='cosine',linkage='complete').fit(X)\n",
    "labels = clusters.labels_\n",
    "plt.scatter(evc[np.where(labels==0)[0]],kc[np.where(labels==0)[0]],color='b',s=2)\n",
    "plt.scatter(evc[np.where(labels==1)[0]],kc[np.where(labels==1)[0]],color='r',s=2)"
   ]
  },
  {
   "cell_type": "markdown",
   "metadata": {},
   "source": [
    "#### There are many red nodes that should be colored green. It is noteworthy though that the Louvain communities are largely divided between the two obvious clusters"
   ]
  },
  {
   "cell_type": "code",
   "execution_count": 78,
   "metadata": {},
   "outputs": [],
   "source": [
    "cset = louvain(G_synth)"
   ]
  },
  {
   "cell_type": "code",
   "execution_count": 101,
   "metadata": {},
   "outputs": [
    {
     "data": {
      "text/plain": [
       "<matplotlib.legend.Legend at 0x7f4dc4cfe950>"
      ]
     },
     "execution_count": 101,
     "metadata": {},
     "output_type": "execute_result"
    },
    {
     "data": {
      "image/png": "[encoded data removed]",
      "text/plain": [
       "<Figure size 432x288 with 1 Axes>"
      ]
     },
     "metadata": {
      "needs_background": "light"
     },
     "output_type": "display_data"
    }
   ],
   "source": [
    "for i,com in enumerate(cset.communities()):\n",
    "    if i+1 in [1,3,4,5,6,2]:\n",
    "        nodes = com.nodes_()\n",
    "        plt.scatter(evc[nodes],kc[nodes],s=7,label='%d'%(i+1))\n",
    "\n",
    "plt.ylim([-0.01,0.2])\n",
    "plt.xlim([-0.01,0.2])\n",
    "plt.legend()"
   ]
  },
  {
   "cell_type": "code",
   "execution_count": 99,
   "metadata": {},
   "outputs": [
    {
     "data": {
      "text/plain": [
       "<matplotlib.legend.Legend at 0x7f4dc4e64190>"
      ]
     },
     "execution_count": 99,
     "metadata": {},
     "output_type": "execute_result"
    },
    {
     "data": {
      "image/png": "[encoded data removed]",
      "text/plain": [
       "<Figure size 432x288 with 1 Axes>"
      ]
     },
     "metadata": {
      "needs_background": "light"
     },
     "output_type": "display_data"
    }
   ],
   "source": [
    "for i,com in enumerate(cset.communities()):\n",
    "    if i+1 not in [1,3,4,5,6,2]:\n",
    "        nodes = com.nodes_()\n",
    "        plt.scatter(evc[nodes],kc[nodes],s=7,label='%d'%(i+1))\n",
    "\n",
    "plt.ylim([-0.01,0.2])\n",
    "plt.xlim([-0.01,0.2])\n",
    "plt.legend()"
   ]
  },
  {
   "cell_type": "markdown",
   "metadata": {},
   "source": [
    "#### Communities 1-6 are largely in the verticle cluster, and 7-13 are in the diagonal cluster. Louvain community detection is essentially classifying the communities in the same manner as the KE method, but with longer runtime and more sensitivity to noise. It we look the modularity resulting from choosing communites by membership in Louvain 1-6 and Louvain 7-13 (in this case it's basically nodes with eigenvector centrality less than/greater than 0.025) we see ..."
   ]
  },
  {
   "cell_type": "code",
   "execution_count": null,
   "metadata": {},
   "outputs": [],
   "source": []
  }
 ],
 "metadata": {
  "kernelspec": {
   "display_name": "Python 2",
   "language": "python",
   "name": "python2"
  },
  "language_info": {
   "codemirror_mode": {
    "name": "ipython",
    "version": 2
   },
   "file_extension": ".py",
   "mimetype": "text/x-python",
   "name": "python",
   "nbconvert_exporter": "python",
   "pygments_lexer": "ipython2",
   "version": "2.7.15"
  }
 },
 "nbformat": 4,
 "nbformat_minor": 2
}
