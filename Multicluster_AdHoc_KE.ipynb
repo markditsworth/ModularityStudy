{
 "cells": [
  {
   "cell_type": "code",
   "execution_count": 1,
   "metadata": {},
   "outputs": [],
   "source": [
    "import zen\n",
    "import matplotlib.pyplot as plt\n",
    "import numpy as np\n",
    "from scipy.stats import linregress\n",
    "import pandas as pd"
   ]
  },
  {
   "cell_type": "code",
   "execution_count": 2,
   "metadata": {},
   "outputs": [],
   "source": [
    "def katz(G,tol=0.01,max_iter=1000,alpha=0.001,beta=1):\n",
    "    iteration = 0\n",
    "    centrality = np.zeros(G.num_nodes)\n",
    "    while iteration < max_iter:\n",
    "        iteration += 1          # increment iteration count\n",
    "        centrality_old = centrality.copy()\n",
    "\n",
    "        for node in G.nodes_():\n",
    "            Ax = 0\n",
    "            for neighbor in G.neighbors_(node):\n",
    "                #weight = G.weight_(G.edge_idx_(neighbor,node))\n",
    "                #Ax += np.multiply(centrality[neighbor],weight)\n",
    "\n",
    "                Ax += centrality[neighbor]      #exclude weight due to overflow in multiplication\n",
    "\n",
    "            centrality[node] = np.multiply(alpha,Ax)+beta\n",
    "\n",
    "        if np.sum(np.abs(np.subtract(centrality,centrality_old))) < tol:\n",
    "            return centrality"
   ]
  },
  {
   "cell_type": "code",
   "execution_count": 3,
   "metadata": {},
   "outputs": [],
   "source": [
    "def multi_modular_graph(sizes,edges,common,katz_alpha=0.001):\n",
    "    graph_list = []\n",
    "    num_of_mod = len(sizes)\n",
    "    assert num_of_mod == len(edges), 'must provide equal number of edge numbers as sizes'\n",
    "    for i in range(num_of_mod):\n",
    "        g = zen.generating.barabasi_albert(sizes[i],edges[i])\n",
    "        graph_list.append(g)\n",
    "        \n",
    "    total_size = sum(sizes)\n",
    "    G = zen.Graph()\n",
    "    for i in range(total_size):\n",
    "        G.add_node(i)\n",
    "    \n",
    "    avgDegs = []\n",
    "    densities = []\n",
    "    for i,graph in enumerate(graph_list):\n",
    "        avgDegs.append((2.0 * graph.num_edges)/graph.num_nodes)\n",
    "        densities.append(graph.num_edges/((sizes[i]*(sizes[i]-1))/2.0))\n",
    "        offset = sum(sizes[:i])\n",
    "        for edge in graph.edges_iter():\n",
    "            u = edge[0]+offset\n",
    "            v = edge[1]+offset\n",
    "            G.add_edge(u,v)\n",
    "    \n",
    "    # create 'common' fraction of existing edges, edges that randomly go between clusters\n",
    "    num_of_new_edges = round(common * G.num_edges)\n",
    "    count = 0\n",
    "    while count < num_of_new_edges:\n",
    "        src_cluster = np.random.choice(num_of_mod)\n",
    "        dst_cluster = np.random.choice(num_of_mod)\n",
    "        #ensure the clusters aren't the same (sooooooooooo efficient, I know...)\n",
    "        while dst_cluster == src_cluster:\n",
    "            dst_cluster = np.random.choice(num_of_mod)\n",
    "        src_node = np.random.choice(sizes[src_cluster]) + sum(sizes[:src_cluster])\n",
    "        dst_node = np.random.choice(sizes[dst_cluster]) + sum(sizes[:dst_cluster])\n",
    "        try:\n",
    "            G.add_edge(src_node,dst_node)\n",
    "            count += 1\n",
    "        except:\n",
    "            pass\n",
    "            \n",
    "    classes = {}\n",
    "    for x in range(num_of_mod):\n",
    "        if x == 0:\n",
    "            start = 0\n",
    "        else:\n",
    "            start = sum(sizes[:x])\n",
    "        classes[x] = np.arange(sizes[x])+start\n",
    "    \n",
    "    classList = np.concatenate([np.zeros(length)+com for com,length in enumerate(sizes)])\n",
    "    \n",
    "    \n",
    "    evc = zen.algorithms.eigenvector_centrality_(G)\n",
    "    kc = katz(G,alpha=katz_alpha)\n",
    "    \n",
    "    return G, classes, classList, evc, kc"
   ]
  },
  {
   "cell_type": "code",
   "execution_count": 4,
   "metadata": {},
   "outputs": [],
   "source": [
    "def modularity(G,classDict,classList):\n",
    "    Q = zen.algorithms.modularity(G,classDict)\n",
    "    count=0.0\n",
    "    for e in G.edges():\n",
    "        n1 = G.node_idx(e[0])\n",
    "        n2 = G.node_idx(e[1])\n",
    "        if classList[n1] == classList[n2]:\n",
    "            count += 1\n",
    "    same = count / G.num_edges\n",
    "    rand = same - Q\n",
    "    qmax = 1 - rand\n",
    "    return Q,qmax"
   ]
  },
  {
   "cell_type": "code",
   "execution_count": 36,
   "metadata": {},
   "outputs": [
    {
     "data": {
      "image/png": "[encoded data removed]",
      "text/plain": [
       "<Figure size 432x288 with 1 Axes>"
      ]
     },
     "metadata": {
      "needs_background": "light"
     },
     "output_type": "display_data"
    }
   ],
   "source": [
    "sizes = [100,100,100,100]\n",
    "edges = [2,5,12,12]\n",
    "common = 0.15\n",
    "\n",
    "G,classDict,classList,evc,kc = multi_modular_graph(sizes,edges,common)\n",
    "evc = evc - np.min(evc)\n",
    "evc = evc/np.max(evc)\n",
    "kc = kc - np.min(kc)\n",
    "kc = kc/np.max(kc)\n",
    "for i,j in enumerate(sizes):\n",
    "    start = sum(sizes[:i])\n",
    "    stop = sum(sizes[:i+1])\n",
    "    evc_ = evc[start:stop]\n",
    "    kc_  =  kc[start:stop]\n",
    "    plt.scatter(evc_,kc_,s=3)\n",
    "plt.show()"
   ]
  },
  {
   "cell_type": "code",
   "execution_count": 24,
   "metadata": {},
   "outputs": [
    {
     "name": "stdout",
     "output_type": "stream",
     "text": [
      "[3, 2, 1, 0]\n"
     ]
    }
   ],
   "source": [
    "num_communities = len(sizes)\n",
    "order = [x for x in range(num_communities)]\n",
    "order.reverse()\n",
    "\n",
    "for x in order:"
   ]
  },
  {
   "cell_type": "code",
   "execution_count": null,
   "metadata": {},
   "outputs": [],
   "source": []
  }
 ],
 "metadata": {
  "kernelspec": {
   "display_name": "Python 2",
   "language": "python",
   "name": "python2"
  },
  "language_info": {
   "codemirror_mode": {
    "name": "ipython",
    "version": 2
   },
   "file_extension": ".py",
   "mimetype": "text/x-python",
   "name": "python",
   "nbconvert_exporter": "python",
   "pygments_lexer": "ipython2",
   "version": "2.7.16"
  }
 },
 "nbformat": 4,
 "nbformat_minor": 2
}
