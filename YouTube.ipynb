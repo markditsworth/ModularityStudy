{
 "cells": [
  {
   "cell_type": "code",
   "execution_count": 1,
   "metadata": {},
   "outputs": [],
   "source": [
    "import numpy as np\n",
    "import pandas as pd\n",
    "import zen\n",
    "import matplotlib.pyplot as plt"
   ]
  },
  {
   "cell_type": "code",
   "execution_count": 2,
   "metadata": {},
   "outputs": [],
   "source": [
    "coms = {}\n",
    "key = 0\n",
    "for line in open('com-youtube.top5000.cmty.txt','r'):\n",
    "    nodes = np.array(line.split(),dtype=np.int64)\n",
    "    coms[key] = [nodes,len(nodes)]\n",
    "    key += 1"
   ]
  },
  {
   "cell_type": "code",
   "execution_count": 3,
   "metadata": {},
   "outputs": [],
   "source": [
    "keys = coms.keys()\n",
    "sizes = [s for i,s in coms.values()]"
   ]
  },
  {
   "cell_type": "code",
   "execution_count": 4,
   "metadata": {},
   "outputs": [],
   "source": [
    "rankings = sorted(zip(sizes,keys),reverse=True)\n",
    "top_comm1 = rankings[0][1]\n",
    "top_comm2 = rankings[1][1]\n",
    "\n",
    "comm1 = coms[top_comm1][0]\n",
    "label1 = np.zeros(len(comm1))\n",
    "comm2 = coms[top_comm2][0]\n",
    "label2 = np.ones(len(comm2))\n",
    "\n",
    "sampled_nodes = np.hstack([comm1,comm2])\n",
    "labels = np.hstack([label1,label2])\n",
    "\n",
    "sampledNodes = pd.DataFrame({'Nodes':sampled_nodes,'Community':labels})"
   ]
  },
  {
   "cell_type": "code",
   "execution_count": 5,
   "metadata": {},
   "outputs": [
    {
     "name": "stdout",
     "output_type": "stream",
     "text": [
      "Percent of nodes in both communities: 25.9%\n"
     ]
    }
   ],
   "source": [
    "temp=sampledNodes.groupby('Nodes').count()\n",
    "s=temp.shape[0]\n",
    "both = temp[temp['Community']==2].shape[0]/float(s)\n",
    "print 'Percent of nodes in both communities: %.1f%%'%(100*both)"
   ]
  },
  {
   "cell_type": "code",
   "execution_count": null,
   "metadata": {},
   "outputs": [],
   "source": [
    "%%time\n",
    "G = zen.Graph()\n",
    "l = 0\n",
    "for line in open('com-youtube.ungraph.txt','rb'):\n",
    "    l+=1\n",
    "    if l>4:\n",
    "        nodes = line.split()\n",
    "        n1 = int(nodes[0])\n",
    "        n2 = int(nodes[1])\n",
    "        one_in = bool(sampledNodes[sampledNodes['Nodes']==n1].shape[0])\n",
    "        two_in = bool(sampledNodes[sampledNodes['Nodes']==n2].shape[0])\n",
    "        if one_in and two_in:\n",
    "            G.add_edge(n1,n2)"
   ]
  },
  {
   "cell_type": "code",
   "execution_count": 6,
   "metadata": {},
   "outputs": [],
   "source": [
    "evc = zen.algorithms.eigenvector_centrality_(G,weighted=True)\n",
    "evc = evc - np.min(evc)\n",
    "evc = evc / np.max(evc)"
   ]
  },
  {
   "cell_type": "code",
   "execution_count": 7,
   "metadata": {},
   "outputs": [],
   "source": [
    "def katz(G,tol=0.01,max_iter=1000,alpha=0.001,beta=1):\n",
    "    iteration = 0\n",
    "    centrality = np.zeros(G.num_nodes)\n",
    "    while iteration < max_iter:\n",
    "        iteration += 1          # increment iteration count\n",
    "        centrality_old = centrality.copy()\n",
    "\n",
    "        for node in G.nodes_():\n",
    "            Ax = 0\n",
    "            for neighbor in G.neighbors_(node):\n",
    "                weight = G.weight_(G.edge_idx_(neighbor,node))\n",
    "                Ax += np.multiply(centrality[neighbor],weight)\n",
    "\n",
    "                #Ax += centrality[neighbor]      #exclude weight due to overflow in multiplication\n",
    "\n",
    "            centrality[node] = np.multiply(alpha,Ax)+beta\n",
    "\n",
    "        if np.sum(np.abs(np.subtract(centrality,centrality_old))) < tol:\n",
    "            return centrality\n"
   ]
  },
  {
   "cell_type": "code",
   "execution_count": 8,
   "metadata": {},
   "outputs": [
    {
     "name": "stdout",
     "output_type": "stream",
     "text": [
      "CPU times: user 516 ms, sys: 32 ms, total: 548 ms\n",
      "Wall time: 520 ms\n"
     ]
    }
   ],
   "source": [
    "%%time\n",
    "kc = katz(G,alpha=1e-6) #1e-6\n",
    "kc = kc - np.min(kc)\n",
    "kc = kc / np.max(kc)"
   ]
  },
  {
   "cell_type": "code",
   "execution_count": 38,
   "metadata": {},
   "outputs": [
    {
     "data": {
      "image/png": "[encoded data removed]",
      "text/plain": [
       "<matplotlib.figure.Figure at 0x7fa7e434c0d0>"
      ]
     },
     "metadata": {},
     "output_type": "display_data"
    }
   ],
   "source": [
    "for c in [0,1]:\n",
    "    nodes = sampledNodes[sampledNodes['Community']==c]['Nodes'].values\n",
    "    idx = [G.node_idx(n) for n in nodes]\n",
    "    plt.scatter(evc[idx],kc[idx],s=1,label='Community %d'%(c+1))\n",
    "plt.xlabel('Eigenvector centrality (normalized)',fontsize=14)\n",
    "plt.ylabel('Katz centrality (normalized)',fontsize=14)\n",
    "#plt.xlim([0,0.1])\n",
    "#plt.ylim([0,0.1])\n",
    "plt.legend()\n",
    "plt.savefig('figures/youtube.eps',bbox_inches='tight')"
   ]
  },
  {
   "cell_type": "code",
   "execution_count": 36,
   "metadata": {},
   "outputs": [
    {
     "name": "stdout",
     "output_type": "stream",
     "text": [
      "0.0487836224548\n",
      "0.447543098678\n",
      "0.109003183378\n"
     ]
    }
   ],
   "source": [
    "labels = np.zeros(G.num_nodes)\n",
    "idx = [G.node_idx(n) for n in sampledNodes[sampledNodes['Community']==1]['Nodes'].values]\n",
    "labels[idx] = 1\n",
    "\n",
    "classes = {}\n",
    "classes[0] = sampledNodes[sampledNodes['Community']==0]['Nodes'].values\n",
    "classes[1] = sampledNodes[sampledNodes['Community']==1]['Nodes'].values\n",
    "\n",
    "def modularity(G,classDict,classList):\n",
    "    Q = zen.algorithms.modularity(G,classDict)\n",
    "    # Maximum Modularity\n",
    "    count=0.0\n",
    "    for e in G.edges():\n",
    "        n1 = G.node_idx(e[0])\n",
    "        n2 = G.node_idx(e[1])\n",
    "        if classList[n1] == classList[n2]:\n",
    "            count += 1\n",
    "    same = count / G.num_edges\n",
    "    rand = same - Q\n",
    "    qmax = 1 - rand\n",
    "    return Q, qmax\n",
    "\n",
    "q,qmax = modularity(G,classes,labels)\n",
    "print q\n",
    "print qmax\n",
    "print q/qmax"
   ]
  },
  {
   "cell_type": "code",
   "execution_count": 40,
   "metadata": {},
   "outputs": [
    {
     "data": {
      "text/plain": [
       "3269"
      ]
     },
     "execution_count": 40,
     "metadata": {},
     "output_type": "execute_result"
    }
   ],
   "source": [
    "G.num_nodes"
   ]
  },
  {
   "cell_type": "code",
   "execution_count": null,
   "metadata": {},
   "outputs": [],
   "source": []
  }
 ],
 "metadata": {
  "kernelspec": {
   "display_name": "Python 2",
   "language": "python",
   "name": "python2"
  },
  "language_info": {
   "codemirror_mode": {
    "name": "ipython",
    "version": 2
   },
   "file_extension": ".py",
   "mimetype": "text/x-python",
   "name": "python",
   "nbconvert_exporter": "python",
   "pygments_lexer": "ipython2",
   "version": "2.7.16"
  }
 },
 "nbformat": 4,
 "nbformat_minor": 2
}
