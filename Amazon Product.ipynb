{
 "cells": [
  {
   "cell_type": "code",
   "execution_count": 1,
   "metadata": {},
   "outputs": [],
   "source": [
    "import numpy as np\n",
    "import pandas as pd\n",
    "import zen\n",
    "import matplotlib.pyplot as plt\n",
    "from tqdm import tqdm_notebook as progress"
   ]
  },
  {
   "cell_type": "code",
   "execution_count": 2,
   "metadata": {},
   "outputs": [
    {
     "data": {
      "application/vnd.jupyter.widget-view+json": {
       "model_id": "c24b49db021d496f80f23a9229805af3",
       "version_major": 2,
       "version_minor": 0
      },
      "text/plain": [
       "SEJveChjaGlsZHJlbj0oSW50UHJvZ3Jlc3ModmFsdWU9MCwgZGVzY3JpcHRpb249dSdDb21tdW5pdGllcycsIG1heD01MDAwLCBzdHlsZT1Qcm9ncmVzc1N0eWxlKGRlc2NyaXB0aW9uX3dpZHTigKY=\n"
      ]
     },
     "metadata": {},
     "output_type": "display_data"
    },
    {
     "name": "stdout",
     "output_type": "stream",
     "text": [
      "\n"
     ]
    }
   ],
   "source": [
    "coms = {}\n",
    "key = 0\n",
    "for line in progress(open('com-amazon.top5000.cmty.txt','r'),desc='Communities',total=5000):\n",
    "    nodes = np.array(line.split(),dtype=np.int64)\n",
    "    coms[key] = [nodes,len(nodes)]\n",
    "    key += 1"
   ]
  },
  {
   "cell_type": "code",
   "execution_count": 3,
   "metadata": {},
   "outputs": [],
   "source": [
    "keys = coms.keys()\n",
    "sizes = [s for i,s in coms.values()]"
   ]
  },
  {
   "cell_type": "code",
   "execution_count": 4,
   "metadata": {},
   "outputs": [],
   "source": [
    "rankings = sorted(zip(sizes,keys),reverse=True)\n",
    "top_comm1 = rankings[0][1]\n",
    "top_comm2 = rankings[1][1]\n",
    "\n",
    "comm1 = coms[top_comm1][0]\n",
    "label1 = np.zeros(len(comm1))\n",
    "comm2 = coms[top_comm2][0]\n",
    "label2 = np.ones(len(comm2))\n",
    "\n",
    "sampled_nodes = np.hstack([comm1,comm2])\n",
    "labels = np.hstack([label1,label2])\n",
    "\n",
    "sampledNodes = pd.DataFrame({'Nodes':sampled_nodes,'Community':labels})"
   ]
  },
  {
   "cell_type": "code",
   "execution_count": 5,
   "metadata": {},
   "outputs": [
    {
     "name": "stdout",
     "output_type": "stream",
     "text": [
      "Percent of nodes in both communities: 100.0%\n"
     ]
    }
   ],
   "source": [
    "temp=sampledNodes.groupby('Nodes').count()\n",
    "s = temp.shape[0]\n",
    "both = temp[temp['Community']==2].shape[0]/float(s)\n",
    "print 'Percent of nodes in both communities: %.1f%%'%(100*both)"
   ]
  },
  {
   "cell_type": "code",
   "execution_count": 6,
   "metadata": {},
   "outputs": [
    {
     "data": {
      "application/vnd.jupyter.widget-view+json": {
       "model_id": "20a18fe8b9164453a9fcde7722b79d8c",
       "version_major": 2,
       "version_minor": 0
      },
      "text/plain": [
       "SEJveChjaGlsZHJlbj0oSW50UHJvZ3Jlc3ModmFsdWU9MCwgZGVzY3JpcHRpb249dSdFZGdlcycsIG1heD05MjU4NzYsIHN0eWxlPVByb2dyZXNzU3R5bGUoZGVzY3JpcHRpb25fd2lkdGg9dSfigKY=\n"
      ]
     },
     "metadata": {},
     "output_type": "display_data"
    },
    {
     "name": "stdout",
     "output_type": "stream",
     "text": [
      "\n",
      "CPU times: user 20min 8s, sys: 45.2 s, total: 20min 53s\n",
      "Wall time: 20min 5s\n"
     ]
    }
   ],
   "source": [
    "%%time\n",
    "G = zen.Graph()\n",
    "l = 0\n",
    "for line in progress(open('com-amazon.ungraph.txt','rb'),desc='Edges',total=925876):\n",
    "    l+=1\n",
    "    if l>4:\n",
    "        nodes = line.split()\n",
    "        n1 = int(nodes[0])\n",
    "        n2 = int(nodes[1])\n",
    "        one_in = bool(sampledNodes[sampledNodes['Nodes']==n1].shape[0])\n",
    "        two_in = bool(sampledNodes[sampledNodes['Nodes']==n2].shape[0])\n",
    "        if one_in and two_in:\n",
    "            G.add_edge(n1,n2)"
   ]
  },
  {
   "cell_type": "code",
   "execution_count": 6,
   "metadata": {},
   "outputs": [],
   "source": [
    "G = zen.io.gml.read('amazon_product.gml',weight_fxn=lambda x:x['weight'])"
   ]
  },
  {
   "cell_type": "code",
   "execution_count": 7,
   "metadata": {},
   "outputs": [],
   "source": [
    "evc = zen.algorithms.eigenvector_centrality_(G,weighted=True)\n",
    "evc = evc - np.min(evc)\n",
    "evc = evc / np.max(evc)"
   ]
  },
  {
   "cell_type": "code",
   "execution_count": 8,
   "metadata": {},
   "outputs": [],
   "source": [
    "def katz(G,tol=0.01,max_iter=1000,alpha=0.001,beta=1):\n",
    "    iteration = 0\n",
    "    centrality = np.zeros(G.num_nodes)\n",
    "    while iteration < max_iter:\n",
    "        iteration += 1          # increment iteration count\n",
    "        centrality_old = centrality.copy()\n",
    "\n",
    "        for node in G.nodes_():\n",
    "            Ax = 0\n",
    "            for neighbor in G.neighbors_(node):\n",
    "                weight = G.weight_(G.edge_idx_(neighbor,node))\n",
    "                Ax += np.multiply(centrality[neighbor],weight)\n",
    "\n",
    "                #Ax += centrality[neighbor]      #exclude weight due to overflow in multiplication\n",
    "\n",
    "            centrality[node] = np.multiply(alpha,Ax)+beta\n",
    "\n",
    "        if np.sum(np.abs(np.subtract(centrality,centrality_old))) < tol:\n",
    "            return centrality\n"
   ]
  },
  {
   "cell_type": "code",
   "execution_count": 9,
   "metadata": {},
   "outputs": [
    {
     "name": "stdout",
     "output_type": "stream",
     "text": [
      "CPU times: user 52 ms, sys: 0 ns, total: 52 ms\n",
      "Wall time: 49 ms\n"
     ]
    }
   ],
   "source": [
    "%%time\n",
    "kc = katz(G,alpha=1e-6) #1e-6\n",
    "kc = kc - np.min(kc)\n",
    "kc = kc / np.max(kc)"
   ]
  },
  {
   "cell_type": "code",
   "execution_count": 28,
   "metadata": {},
   "outputs": [
    {
     "data": {
      "image/png": "[encoded data removed]",
      "text/plain": [
       "<Figure size 432x288 with 1 Axes>"
      ]
     },
     "metadata": {
      "needs_background": "light"
     },
     "output_type": "display_data"
    }
   ],
   "source": [
    "for c in [0,1]:\n",
    "    nodes = sampledNodes[sampledNodes['Community']==c]['Nodes'].values\n",
    "    idx = [G.node_idx(n) for n in nodes]\n",
    "    plt.scatter(evc,kc,s=3,label='Community %d'%(c+1))\n",
    "plt.xlabel('Eigenvector centrality (normalized)')\n",
    "plt.ylabel('Katz centrality (normalized)')\n",
    "plt.legend()\n",
    "plt.show()"
   ]
  },
  {
   "cell_type": "code",
   "execution_count": 52,
   "metadata": {},
   "outputs": [],
   "source": [
    "def MSE(x,y,m):\n",
    "    '''\n",
    "    Not mean-squared-error, just too lazy to chance the function name.\n",
    "    Measures the orthogonal distance points are from the line through origin with slope m\n",
    "    '''\n",
    "    x_ = (m*y+x)/(m**2 + 1)\n",
    "    y_ = (y*(m**2) + m*x)/(m**2 + 1)\n",
    "    return np.sum(np.power(x-x_,2) + np.power(y-y_,2))/len(x)\n",
    "    \n",
    "\n",
    "def slope(angle):\n",
    "    '''\n",
    "    Calculates linear slope of line with angle from x-axis (radians)\n",
    "    '''\n",
    "    return np.tan(angle)\n",
    "    \n",
    "def bound(x, y, slope, lineU, lineL):\n",
    "    '''\n",
    "    returns subset of x,y that are between the lines lineU and lineL\n",
    "    '''\n",
    "    upper = lineU(x,slope)\n",
    "    lower = lineL(x,slope)\n",
    "    return np.logical_and(y>=lower, y<=upper)\n",
    "\n",
    "def get_offsets(m,d):\n",
    "    '''\n",
    "    calculates the shift of a line that has an orthogonal distance d\n",
    "    from a line through the origin with slope m\n",
    "    '''\n",
    "    A = 1./(m**2) + 1\n",
    "    B = -2*A\n",
    "    C = (1./(m**2))+1 - d**2\n",
    "    \n",
    "    x1 = (-B + np.sqrt(B**2 - 4*A*C))/(2*A)\n",
    "    \n",
    "    y1 = m + (1./m) - (x1/m)\n",
    "    \n",
    "    b1 = y1 - m*x1\n",
    "    return b1\n",
    "\n",
    "def lineFinder(x, y, dtheta=0.01, dx=0.05):\n",
    "    theta=0\n",
    "    \n",
    "    line = lambda x,m: m*x\n",
    "    b_up = lambda x,m: m*(x)-get_offsets(m,dx)\n",
    "    b_low= lambda x,m: m*(x)+get_offsets(m,dx)\n",
    "    \n",
    "    thetas = np.arange(1e-4,np.pi/2,dtheta)\n",
    "    error = np.empty(len(thetas))\n",
    "    \n",
    "    for i,theta in enumerate(thetas):\n",
    "        m = slope(theta)\n",
    "        X = x[bound(x,y,m,b_up,b_low)]\n",
    "        Y = y[bound(x,y,m,b_up,b_low)]\n",
    "        error[i] = MSE(X,Y,m)*(len(X)/float(len(x)))\n",
    "    \n",
    "    return thetas, error\n",
    "\n",
    "def optimizeAngles(angle,error,N,plot=False):\n",
    "    N=10\n",
    "    x = pd.Series(error).rolling(window=N).mean().iloc[N-1:].values\n",
    "    x_ = np.diff(x)\n",
    "    t = angle[N:]\n",
    "    ang = []\n",
    "    for i in range(len(x_)):\n",
    "        if i != 0 and i != len(x_)-1:\n",
    "            if x_[i-1] < 0 and x_[i] >= 0:\n",
    "                ang.append(t[i])\n",
    "    if plot:\n",
    "        for a in ang:\n",
    "            plt.vlines(ymin=np.min(x),ymax=np.max(x),x=a*180/np.pi,linestyle='--',color='grey')\n",
    "        plt.plot(angle[N-1:]*180/np.pi,x)\n",
    "        plt.xlabel('Angle (deg.)')\n",
    "        plt.ylabel('Sum of Squared Orth. Error')\n",
    "        plt.title('Identification of Local Minima')\n",
    "        plt.show()\n",
    "\n",
    "    return ang\n",
    "\n",
    "def getGroups(x,y,angles):\n",
    "    if len(angles) == 1:\n",
    "        m = slope(angles[0])\n",
    "        y_ = x*m\n",
    "        g1 = np.where(y<=y_)[0]\n",
    "        g2 = np.where(y>y_)[0]\n",
    "        return [g1,g2]\n",
    "    elif len(angles) == 2:\n",
    "        m1 = slope(angles[0])\n",
    "        m2 = slope(angles[1])\n",
    "        y1_ = x*m1\n",
    "        y2_ = x*m2\n",
    "        g1 = np.where(y<=y1_)[0]\n",
    "        g2 = np.where(np.logical_and(y>y1_,y<=y2_))[0]\n",
    "        g3 = np.where(y>y2_)[0]\n",
    "        return [g1,g2,g3]\n",
    "    elif len(angles) == 3:\n",
    "        m1 = slope(angles[0])\n",
    "        m2 = slope(angles[1])\n",
    "        m3 = slope(angles[2])\n",
    "        y1_ = x*m1\n",
    "        y2_ = x*m2\n",
    "        y3_ = x*m3\n",
    "        g1 = np.where(y<=y1_)[0]\n",
    "        g2 = np.where(np.logical_and(y>y1_,y<=y2_))[0]\n",
    "        g3 = np.where(np.logical_and(y>y2_,y<=y3_))[0]\n",
    "        g4 = np.where(y>y3_)[0]\n",
    "        return [g1,g2,g3,g4]\n",
    "    \n",
    "def lineClustering(x,y, dtheta=0.01, dx=0.5, window=10, plot=False):\n",
    "    angles, errors = lineFinder(x,y,dtheta=dtheta,dx=dx)\n",
    "    best_angles = optimizeAngles(angles,errors,window,plot=plot)\n",
    "    clusters = getGroups(x,y,best_angles)\n",
    "    return clusters"
   ]
  },
  {
   "cell_type": "code",
   "execution_count": 86,
   "metadata": {},
   "outputs": [
    {
     "data": {
      "image/png": "[encoded data removed]",
      "text/plain": [
       "<Figure size 432x288 with 1 Axes>"
      ]
     },
     "metadata": {
      "needs_background": "light"
     },
     "output_type": "display_data"
    }
   ],
   "source": [
    "clusters = lineClustering(evc,kc,dx=0.55,window=10,plot=True)"
   ]
  },
  {
   "cell_type": "code",
   "execution_count": 90,
   "metadata": {},
   "outputs": [
    {
     "name": "stdout",
     "output_type": "stream",
     "text": [
      "114\n",
      "214\n"
     ]
    },
    {
     "data": {
      "image/png": "[encoded data removed]",
      "text/plain": [
       "<Figure size 432x288 with 1 Axes>"
      ]
     },
     "metadata": {
      "needs_background": "light"
     },
     "output_type": "display_data"
    }
   ],
   "source": [
    "for c in clusters:\n",
    "    print len(c)\n",
    "    plt.scatter(evc[c],kc[c],s=8)\n",
    "plt.xlabel('Eigenvector centrality (normalized)')\n",
    "plt.ylabel('Katz centrality (normalized)')\n",
    "plt.show()"
   ]
  },
  {
   "cell_type": "code",
   "execution_count": 88,
   "metadata": {},
   "outputs": [],
   "source": [
    "def modularity(G,classDict,classList):\n",
    "    Q = zen.algorithms.modularity(G,classDict)\n",
    "    # Maximum Modularity\n",
    "    count=0.0\n",
    "    for e in G.edges():\n",
    "        n1 = G.node_idx(e[0])\n",
    "        n2 = G.node_idx(e[1])\n",
    "        if classList[n1] == classList[n2]:\n",
    "            count += 1\n",
    "    same = count / G.num_edges\n",
    "    rand = same - Q\n",
    "    qmax = 1 - rand\n",
    "    return Q, qmax"
   ]
  },
  {
   "cell_type": "code",
   "execution_count": 89,
   "metadata": {},
   "outputs": [
    {
     "name": "stdout",
     "output_type": "stream",
     "text": [
      "Q:            0.360\n",
      "Qmax:         0.442\n",
      "Normalized Q: 0.813\n"
     ]
    }
   ],
   "source": [
    "ClassDict = {}\n",
    "for i,c in enumerate(clusters):\n",
    "    ClassDict[i] = [G.node_object(x) for x in c]\n",
    "\n",
    "ClassList = np.zeros(G.num_nodes)\n",
    "for i,c in enumerate(clusters):\n",
    "    ClassList[c]=i\n",
    "\n",
    "q,qmax = modularity(G,ClassDict,ClassList)\n",
    "print 'Q:            %.3f'%q\n",
    "print 'Qmax:         %.3f'%qmax\n",
    "print 'Normalized Q: %.3f'%(q/qmax)"
   ]
  },
  {
   "cell_type": "code",
   "execution_count": null,
   "metadata": {},
   "outputs": [],
   "source": []
  }
 ],
 "metadata": {
  "kernelspec": {
   "display_name": "Python 3",
   "language": "python",
   "name": "python3"
  },
  "language_info": {
   "codemirror_mode": {
    "name": "ipython",
    "version": 3
   },
   "file_extension": ".py",
   "mimetype": "text/x-python",
   "name": "python",
   "nbconvert_exporter": "python",
   "pygments_lexer": "ipython3",
   "version": "3.7.3"
  }
 },
 "nbformat": 4,
 "nbformat_minor": 2
}
