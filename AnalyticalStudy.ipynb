{
 "cells": [
  {
   "cell_type": "code",
   "execution_count": 13,
   "metadata": {},
   "outputs": [],
   "source": [
    "import numpy as np\n",
    "import numpy.linalg as la\n",
    "import matplotlib.pyplot as plt"
   ]
  },
  {
   "cell_type": "code",
   "execution_count": 100,
   "metadata": {},
   "outputs": [],
   "source": [
    "def adj_matrix_eig_dist(n=10,weighted=False,self_loops=False,directed=False,bins=np.zeros(3)):\n",
    "    '''\n",
    "    returns distribution of eigenvalues of the adjaceny matrix of a graph\n",
    "    n: number of nodes\n",
    "    weighted: weighted edges or not\n",
    "    self_loops: self loops allowed or not\n",
    "    directed: directed graph if true, undirected if false\n",
    "    returns:\n",
    "    p: percentage of eigenvalues in the bin\n",
    "    b: bin (range of eigenvalues)\n",
    "    '''\n",
    "    if not weighted:\n",
    "        A = np.random.randint(0,2,size=n**2).reshape((n,n))\n",
    "    else:\n",
    "        print(\"Weighted graphs not yet supported\")\n",
    "    if not directed:\n",
    "        A = A*A.T\n",
    "    if not self_loops:\n",
    "        M = A-np.diag(np.diag(A))\n",
    "    \n",
    "    u,v = la.eig(M)\n",
    "    if (bins==0).all():\n",
    "        p,b = np.histogram(u,bins=20,density=True)\n",
    "    else:\n",
    "        p,b = np.histogram(u,bins=bins,density=True)\n",
    "    return p, b"
   ]
  },
  {
   "cell_type": "code",
   "execution_count": 102,
   "metadata": {},
   "outputs": [],
   "source": [
    "N = 500\n",
    "samples = 100\n",
    "\n",
    "for i in range(samples):\n",
    "    if i==0:\n",
    "        p,b = adj_matrix_eig_dist(n=N,bins=np.arange(-7*np.sqrt(N),7*np.sqrt(N),0.1))\n",
    "    else:\n",
    "        p_,b = adj_matrix_eig_dist(n=N,bins=np.arange(-7*np.sqrt(N),7*np.sqrt(N),0.1))\n",
    "        p += p_\n",
    "p = p / samples"
   ]
  },
  {
   "cell_type": "code",
   "execution_count": 124,
   "metadata": {},
   "outputs": [
    {
     "data": {
      "image/png": "[encoded data removed]",
      "text/plain": [
       "<Figure size 432x288 with 1 Axes>"
      ]
     },
     "metadata": {
      "needs_background": "light"
     },
     "output_type": "display_data"
    }
   ],
   "source": [
    "plt.bar(b[:-1],p,color='blue',label='Eigenvalue distribution')\n",
    "#plt.plot(x,y,c='red',label=r'$\\sqrt{n-x^2}/6\\pi\\sqrt{n}$') # DOES NOT FIT EXACTLY TO SEMI_CIRCLE LAW OF SUPPORT\n",
    "#plt.legend(loc='upper left')\n",
    "plt.xlabel('Eigenvalue')\n",
    "plt.ylabel('Density')\n",
    "plt.arrow(125,0.02,0,-0.016,head_width=10,head_length=0.001)\n",
    "plt.text(68,0.021,'Eigenvalues outside\\nof support')\n",
    "plt.show()"
   ]
  },
  {
   "cell_type": "code",
   "execution_count": null,
   "metadata": {},
   "outputs": [],
   "source": []
  }
 ],
 "metadata": {
  "kernelspec": {
   "display_name": "Python 3",
   "language": "python",
   "name": "python3"
  },
  "language_info": {
   "codemirror_mode": {
    "name": "ipython",
    "version": 3
   },
   "file_extension": ".py",
   "mimetype": "text/x-python",
   "name": "python",
   "nbconvert_exporter": "python",
   "pygments_lexer": "ipython3",
   "version": "3.7.1"
  }
 },
 "nbformat": 4,
 "nbformat_minor": 2
}
