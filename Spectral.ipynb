{
 "cells": [
  {
   "cell_type": "code",
   "execution_count": 16,
   "metadata": {},
   "outputs": [],
   "source": [
    "import zen\n",
    "import numpy as np\n",
    "import matplotlib.pyplot as plt"
   ]
  },
  {
   "cell_type": "code",
   "execution_count": 17,
   "metadata": {},
   "outputs": [],
   "source": [
    "def modularity(G,classDict,classList):\n",
    "    Q = zen.algorithms.modularity(G,classDict)\n",
    "    # Maximum Modularity\n",
    "    count=0.0\n",
    "    for e in G.edges():\n",
    "        n1 = G.node_idx(e[0])\n",
    "        n2 = G.node_idx(e[1])\n",
    "        if classList[n1] == classList[n2]:\n",
    "            count += 1\n",
    "    same = count / G.num_edges\n",
    "    rand = same - Q\n",
    "    qmax = 1 - rand\n",
    "    return Q, qmax"
   ]
  },
  {
   "cell_type": "code",
   "execution_count": 18,
   "metadata": {},
   "outputs": [],
   "source": [
    "def katz(G,tol=0.01,max_iter=1000,alpha=0.001,beta=1):\n",
    "    iteration = 0\n",
    "    centrality = np.zeros(G.num_nodes)\n",
    "    while iteration < max_iter:\n",
    "        iteration += 1          # increment iteration count\n",
    "        centrality_old = centrality.copy()\n",
    "\n",
    "        for node in G.nodes_():\n",
    "            Ax = 0\n",
    "            for neighbor in G.neighbors_(node):\n",
    "                weight = G.weight_(G.edge_idx_(neighbor,node))\n",
    "                Ax += np.multiply(centrality[neighbor],weight)\n",
    "\n",
    "                #Ax += centrality[neighbor]      #exclude weight due to overflow in multiplication\n",
    "\n",
    "            centrality[node] = np.multiply(alpha,Ax)+beta\n",
    "\n",
    "        if np.sum(np.abs(np.subtract(centrality,centrality_old))) < tol:\n",
    "            return centrality"
   ]
  },
  {
   "cell_type": "code",
   "execution_count": 19,
   "metadata": {},
   "outputs": [],
   "source": [
    "G = zen.io.gml.read('amazon_product.gml',weight_fxn=lambda x: x['weight'])"
   ]
  },
  {
   "cell_type": "code",
   "execution_count": 27,
   "metadata": {},
   "outputs": [],
   "source": [
    "from zen.algorithms.community import spectral_modularity as spm\n",
    "def spectral_community_detection(G,ke_plot=False):\n",
    "    cset = spm(G)\n",
    "    if ke_plot:\n",
    "        evc = zen.algorithms.eigenvector_centrality_(G)\n",
    "        kc = katz(G,alpha=1e-4)\n",
    "\n",
    "        #scale\n",
    "        evc = evc - np.min(evc)\n",
    "        evc = evc / np.max(evc)\n",
    "        kc  = kc - np.min(kc)\n",
    "        kc = kc / np.max(kc)\n",
    "\n",
    "    comm_dict = {}\n",
    "    comm_list = np.zeros(G.num_nodes)\n",
    "    for i,community in enumerate(cset.communities()):\n",
    "        comm_dict[i] = community.nodes()\n",
    "        comm_list[community.nodes_()] = i\n",
    "        if ke_plot:\n",
    "            plt.scatter(evc[community.nodes_()],kc[community.nodes_()],s=3,label='cluster %d'%i)\n",
    "    if ke_plot:\n",
    "        plt.xlabel('Eigenvector Centrality (normalized)')\n",
    "        plt.xlabel('Katz Centrality (normalized)')\n",
    "        plt.legend()\n",
    "        plt.show()\n",
    "\n",
    "    q,qmax = modularity(G,comm_dict,comm_list)\n",
    "    print '%d communities found.'%(i+1)\n",
    "    print 'Q:            %.3f'%q\n",
    "    print 'Normalized Q: %.3f'%(q/qmax)"
   ]
  },
  {
   "cell_type": "code",
   "execution_count": 29,
   "metadata": {},
   "outputs": [
    {
     "name": "stdout",
     "output_type": "stream",
     "text": [
      "17 communities found.\n",
      "Q:            0.781\n",
      "Normalized Q: 0.875\n",
      "CPU times: user 720 ms, sys: 783 ms, total: 1.5 s\n",
      "Wall time: 244 ms\n"
     ]
    }
   ],
   "source": [
    "%%time\n",
    "spectral_community_detection(G)"
   ]
  },
  {
   "cell_type": "code",
   "execution_count": null,
   "metadata": {},
   "outputs": [],
   "source": []
  }
 ],
 "metadata": {
  "kernelspec": {
   "display_name": "Python 2",
   "language": "python",
   "name": "python2"
  },
  "language_info": {
   "codemirror_mode": {
    "name": "ipython",
    "version": 2
   },
   "file_extension": ".py",
   "mimetype": "text/x-python",
   "name": "python",
   "nbconvert_exporter": "python",
   "pygments_lexer": "ipython2",
   "version": "2.7.16"
  }
 },
 "nbformat": 4,
 "nbformat_minor": 2
}
