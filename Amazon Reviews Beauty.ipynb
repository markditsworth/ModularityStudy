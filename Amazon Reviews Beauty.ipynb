{
 "cells": [
  {
   "cell_type": "code",
   "execution_count": 2,
   "metadata": {},
   "outputs": [],
   "source": [
    "import numpy as np\n",
    "import pandas as pd\n",
    "import zen\n",
    "import matplotlib.pyplot as plt"
   ]
  },
  {
   "cell_type": "code",
   "execution_count": 3,
   "metadata": {},
   "outputs": [],
   "source": [
    "G = zen.io.gml.read('amazon_reviews_beauty.gml',weight_fxn=lambda x: x['weight'])\n",
    "#G = zen.io.gml.read('amazon_reviews_health.gml',weight_fxn=lambda x: x['weight'])"
   ]
  },
  {
   "cell_type": "code",
   "execution_count": 4,
   "metadata": {},
   "outputs": [],
   "source": [
    "evc = zen.algorithms.eigenvector_centrality_(G,weighted=True)\n",
    "evc = evc - np.min(evc)\n",
    "evc = evc / np.max(evc)"
   ]
  },
  {
   "cell_type": "code",
   "execution_count": 5,
   "metadata": {},
   "outputs": [],
   "source": [
    "def katz(G,tol=0.01,max_iter=1000,alpha=0.001,beta=1):\n",
    "    iteration = 0\n",
    "    centrality = np.zeros(G.num_nodes)\n",
    "    while iteration < max_iter:\n",
    "        iteration += 1          # increment iteration count\n",
    "        centrality_old = centrality.copy()\n",
    "\n",
    "        for node in G.nodes_():\n",
    "            Ax = 0\n",
    "            for neighbor in G.neighbors_(node):\n",
    "                weight = G.weight_(G.edge_idx_(neighbor,node))\n",
    "                Ax += np.multiply(centrality[neighbor],weight)\n",
    "\n",
    "                #Ax += centrality[neighbor]      #exclude weight due to overflow in multiplication\n",
    "\n",
    "            centrality[node] = np.multiply(alpha,Ax)+beta\n",
    "\n",
    "        if np.sum(np.abs(np.subtract(centrality,centrality_old))) < tol:\n",
    "            return centrality\n"
   ]
  },
  {
   "cell_type": "code",
   "execution_count": 6,
   "metadata": {},
   "outputs": [
    {
     "name": "stdout",
     "output_type": "stream",
     "text": [
      "CPU times: user 12.2 s, sys: 96 ms, total: 12.3 s\n",
      "Wall time: 12.2 s\n"
     ]
    }
   ],
   "source": [
    "%%time\n",
    "kc = katz(G,alpha=1e-6) #1e-6\n",
    "kc = kc - np.min(kc)\n",
    "kc = kc / np.max(kc)"
   ]
  },
  {
   "cell_type": "code",
   "execution_count": 7,
   "metadata": {},
   "outputs": [
    {
     "data": {
      "image/png": "[encoded data removed]",
      "text/plain": [
       "<matplotlib.figure.Figure at 0x7f58981ff490>"
      ]
     },
     "metadata": {},
     "output_type": "display_data"
    }
   ],
   "source": [
    "plt.scatter(evc,kc,s=3)\n",
    "plt.xlabel('Eigenvector centrality (normalized)')\n",
    "plt.ylabel('Katz centrality (normalized)')\n",
    "plt.show()"
   ]
  },
  {
   "cell_type": "code",
   "execution_count": null,
   "metadata": {},
   "outputs": [],
   "source": [
    "X = np.empty((len(evc),2))\n",
    "X[:,0] = evc\n",
    "X[:,1] = kc\n",
    "\n",
    "#[0,0]s will not be compatible with cosine similarity since they have no magnitude. Add small amount.\n",
    "s = pd.Series(np.array(np.where(X==0))[0])\n",
    "X[s[s.duplicated()].values,:] = [1e-12,1e-12]"
   ]
  },
  {
   "cell_type": "code",
   "execution_count": 9,
   "metadata": {},
   "outputs": [
    {
     "name": "stderr",
     "output_type": "stream",
     "text": [
      "/home/markditsworth/anaconda2/lib/python2.7/site-packages/_pytest/fixtures.py:844: DeprecationWarning: The `convert` argument is deprecated in favor of `converter`.  It will be removed after 2019/01.\n",
      "  params = attr.ib(convert=attr.converters.optional(tuple))\n"
     ]
    }
   ],
   "source": [
    "from sklearn.cluster import AgglomerativeClustering as AC"
   ]
  },
  {
   "cell_type": "code",
   "execution_count": 46,
   "metadata": {},
   "outputs": [],
   "source": [
    "clusters = AC(n_clusters=2,affinity='cosine',linkage='complete').fit(X)"
   ]
  },
  {
   "cell_type": "code",
   "execution_count": 47,
   "metadata": {},
   "outputs": [
    {
     "name": "stdout",
     "output_type": "stream",
     "text": [
      "set([0, 1])\n",
      "658\n",
      "12385\n"
     ]
    }
   ],
   "source": [
    "labels = clusters.labels_\n",
    "print set(labels)\n",
    "for x in list(set(labels)):\n",
    "    print len(np.where(labels==x)[0])"
   ]
  },
  {
   "cell_type": "code",
   "execution_count": 49,
   "metadata": {},
   "outputs": [
    {
     "data": {
      "image/png": "[encoded data removed]",
      "text/plain": [
       "<matplotlib.figure.Figure at 0x7f5897bcb350>"
      ]
     },
     "metadata": {},
     "output_type": "display_data"
    }
   ],
   "source": [
    "color = ['r','b']\n",
    "for x in [0,1]:\n",
    "    idx = np.where(labels==x)[0]\n",
    "    plt.scatter(evc[idx],kc[idx],s=3,color=color[x])\n",
    "#plt.gca().set_yscale('log')\n",
    "#plt.gca().set_xscale('log')\n",
    "#plt.gca().set_xlim([-1e-4,1e-4])\n",
    "#plt.gca().set_ylim([-1e-4,1e-4])\n",
    "plt.xlabel('Eigenvector Centrality (normalized)')\n",
    "plt.ylabel('Katz Centrality (normalized)')\n",
    "plt.show()"
   ]
  },
  {
   "cell_type": "code",
   "execution_count": 13,
   "metadata": {},
   "outputs": [
    {
     "name": "stdout",
     "output_type": "stream",
     "text": [
      "0.161521136985\n",
      "0.205551363098\n",
      "0.78579453111\n"
     ]
    }
   ],
   "source": [
    "classes = {}\n",
    "for c in [0,1]:\n",
    "    idxes = np.where(labels==c)[0]\n",
    "    classes[c] = [G.node_object(i) for i in idxes]\n",
    "\n",
    "def modularity(G,classDict,classList):\n",
    "    Q = zen.algorithms.modularity(G,classDict)\n",
    "    # Maximum Modularity\n",
    "    count=0.0\n",
    "    for e in G.edges():\n",
    "        n1 = G.node_idx(e[0])\n",
    "        n2 = G.node_idx(e[1])\n",
    "        if classList[n1] == classList[n2]:\n",
    "            count += 1\n",
    "    same = count / G.num_edges\n",
    "    rand = same - Q\n",
    "    qmax = 1 - rand\n",
    "    return Q, qmax\n",
    "\n",
    "q,qmax = modularity(G,classes,labels)\n",
    "print q\n",
    "print qmax\n",
    "print q/qmax"
   ]
  },
  {
   "cell_type": "code",
   "execution_count": 56,
   "metadata": {},
   "outputs": [],
   "source": [
    "RED = 0\n",
    "BLUE = 1\n",
    "Labels = pd.Series(labels)\n",
    "red_class = Labels[Labels==RED]\n",
    "blue_class = Labels[Labels==BLUE]\n",
    "\n",
    "X_sub = X[blue_class.index.values,:]\n",
    "\n",
    "cluster2 = AC(n_clusters=2,affinity='cosine',linkage='complete').fit(X_sub)\n",
    "labels2 = cluster2.labels_"
   ]
  },
  {
   "cell_type": "code",
   "execution_count": 58,
   "metadata": {},
   "outputs": [
    {
     "data": {
      "image/png": "[encoded data removed]",
      "text/plain": [
       "<matplotlib.figure.Figure at 0x7f5897e95d10>"
      ]
     },
     "metadata": {},
     "output_type": "display_data"
    }
   ],
   "source": [
    "color = ['b','g']\n",
    "for x in [0,1]:\n",
    "    idx = np.where(labels2==x)[0]\n",
    "    plt.scatter(X_sub[idx,0],X_sub[idx,1],s=3,color=color[x])\n",
    "#plt.gca().set_yscale('log')\n",
    "#plt.gca().set_xscale('log')\n",
    "#plt.gca().set_xlim([-1e-4,1e-4])\n",
    "#plt.gca().set_ylim([-1e-4,1e-4])\n",
    "plt.xlabel('Eigenvector Centrality (normalized)')\n",
    "plt.ylabel('Katz Centrality (normalized)')\n",
    "plt.show()"
   ]
  },
  {
   "cell_type": "code",
   "execution_count": 60,
   "metadata": {},
   "outputs": [],
   "source": [
    "green_class = blue_class.iloc[np.where(labels2==1)[0]]\n",
    "blue_class_ = blue_class.iloc[np.where(labels2==0)[0]]"
   ]
  },
  {
   "cell_type": "code",
   "execution_count": 61,
   "metadata": {},
   "outputs": [
    {
     "data": {
      "image/png": "[encoded data removed]",
      "text/plain": [
       "<matplotlib.figure.Figure at 0x7f5898ab7490>"
      ]
     },
     "metadata": {},
     "output_type": "display_data"
    }
   ],
   "source": [
    "plt.scatter(evc[red_class.index.values],kc[red_class.index.values],s=3,color='r')\n",
    "plt.scatter(evc[blue_class.index.values],kc[blue_class.index.values],s=3,color='b')\n",
    "plt.scatter(evc[green_class.index.values],kc[green_class.index.values],s=3,color='g')\n",
    "plt.xlabel('Eigenvector Centrality (normalized)')\n",
    "plt.ylabel('Katz Centrality (normalized)')\n",
    "plt.show()\n"
   ]
  },
  {
   "cell_type": "code",
   "execution_count": 66,
   "metadata": {},
   "outputs": [
    {
     "name": "stdout",
     "output_type": "stream",
     "text": [
      "0.267829017935\n",
      "0.371200616186\n",
      "0.721520941119\n"
     ]
    }
   ],
   "source": [
    "class_dict = {0:[G.node_object(x) for x in red_class.index.values],\n",
    "              1:[G.node_object(y) for y in blue_class.index.values],\n",
    "              2:[G.node_object(z) for z in green_class.index.values]}\n",
    "class_list = np.zeros(G.num_nodes)\n",
    "class_list[blue_class.index.values] = 1\n",
    "class_list[green_class.index.values] = 2\n",
    "q,qmax = modularity(G,class_dict,class_list)\n",
    "print q\n",
    "print qmax\n",
    "print q/qmax"
   ]
  },
  {
   "cell_type": "code",
   "execution_count": null,
   "metadata": {},
   "outputs": [],
   "source": []
  }
 ],
 "metadata": {
  "kernelspec": {
   "display_name": "Python 2",
   "language": "python",
   "name": "python2"
  },
  "language_info": {
   "codemirror_mode": {
    "name": "ipython",
    "version": 2
   },
   "file_extension": ".py",
   "mimetype": "text/x-python",
   "name": "python",
   "nbconvert_exporter": "python",
   "pygments_lexer": "ipython2",
   "version": "2.7.15"
  }
 },
 "nbformat": 4,
 "nbformat_minor": 2
}
